{
 "cells": [
  {
   "cell_type": "code",
   "execution_count": 1,
   "metadata": {},
   "outputs": [],
   "source": [
    "import pandas as pd\n",
    "import numpy as np\n",
    "import matplotlib.pyplot as plt \n",
    "import seaborn as sns\n",
    "import random"
   ]
  },
  {
   "cell_type": "code",
   "execution_count": 2,
   "metadata": {},
   "outputs": [],
   "source": [
    "hourly_pay = np.genfromtxt('hourly_pay')\n",
    "# what is the file extension of hourly_pay? Doesn't seem to say\n",
    "# it seems to be a txt file that's an array of numbers\n",
    "# fake hourly pay data that's based off of census data\n",
    "\n",
    "# The genfromtxt() used to load data from a text file, with missing values\n",
    "# handled as specified. Each line past the first skip_header lines is split \n",
    "# at the delimiter character, and characters following the comments \n",
    "# character are discarded."
   ]
  },
  {
   "cell_type": "code",
   "execution_count": 3,
   "metadata": {},
   "outputs": [
    {
     "data": {
      "text/plain": [
       "array([ 6.63,  0.  , 14.34, ...,  1.6 ,  0.8 , 11.01])"
      ]
     },
     "execution_count": 3,
     "metadata": {},
     "output_type": "execute_result"
    }
   ],
   "source": [
    "hourly_pay"
   ]
  },
  {
   "cell_type": "markdown",
   "metadata": {},
   "source": [
    "Focus of this notebook is on understanding deep theoretical concepts. How can we understand a population with samples?"
   ]
  },
  {
   "cell_type": "code",
   "execution_count": 4,
   "metadata": {},
   "outputs": [
    {
     "data": {
      "image/png": "[encoded data removed]",
      "text/plain": [
       "<Figure size 432x288 with 1 Axes>"
      ]
     },
     "metadata": {
      "needs_background": "light"
     },
     "output_type": "display_data"
    }
   ],
   "source": [
    "# let's start off by plotting a histogram to see the distribution\n",
    "\n",
    "plt.hist(hourly_pay, bins=50)\n",
    "plt.show()\n",
    "\n",
    "# most peopl earn a low salary\n",
    "# most are under 20 USD an hour"
   ]
  },
  {
   "cell_type": "code",
   "execution_count": 6,
   "metadata": {},
   "outputs": [
    {
     "data": {
      "text/plain": [
       "18.83931814333332"
      ]
     },
     "execution_count": 6,
     "metadata": {},
     "output_type": "execute_result"
    }
   ],
   "source": [
    "# let's calculate the mean - we imagine that we are an all-powerful being\n",
    "mean_salary = np.mean(hourly_pay)\n",
    "mean_salary # knowing this is us thinking in all-powerful mode"
   ]
  },
  {
   "cell_type": "code",
   "execution_count": 10,
   "metadata": {},
   "outputs": [
    {
     "data": {
      "text/plain": [
       "[3, 5, 6, 7, 8]"
      ]
     },
     "execution_count": 10,
     "metadata": {},
     "output_type": "execute_result"
    }
   ],
   "source": [
    "# now let's imagine we're a researcher who's interested in what the \n",
    "# average salary for U.S. adults is\n",
    "\n",
    "# we'll create a sample now - get a subset of people from this population\n",
    "\n",
    "# use the random library to create random samples\n",
    "\n",
    "# # this is an example\n",
    "test_arr = [1,1,2,3,4,5,5,5,6,7,8,9] # we create a list\n",
    "# now the random sampling code\n",
    "random.sample(test_arr, 5)\n",
    "\n",
    "# the code above samples without replacement\n"
   ]
  },
  {
   "cell_type": "code",
   "execution_count": 49,
   "metadata": {},
   "outputs": [
    {
     "data": {
      "text/plain": [
       "[6.96,\n",
       " 7.25,\n",
       " 2.21,\n",
       " 9.77,\n",
       " 21.11,\n",
       " 7.95,\n",
       " 11.24,\n",
       " 9.22,\n",
       " 23.11,\n",
       " 6.87,\n",
       " 11.75,\n",
       " 14.77,\n",
       " 12.67,\n",
       " 0.58,\n",
       " 2.49,\n",
       " 32.95,\n",
       " 18.84,\n",
       " 2.14,\n",
       " 14.8,\n",
       " 13.13,\n",
       " 10.78,\n",
       " 30.88,\n",
       " 0.5,\n",
       " 45.58,\n",
       " 8.33,\n",
       " 28.92,\n",
       " 2.04,\n",
       " 33.46,\n",
       " 46.3,\n",
       " 11.7,\n",
       " 5.63,\n",
       " 40.48,\n",
       " 37.6,\n",
       " 28.5,\n",
       " 6.21,\n",
       " 20.24,\n",
       " 13.66,\n",
       " 15.3,\n",
       " 40.81,\n",
       " 11.38,\n",
       " 18.84,\n",
       " 1.58,\n",
       " 4.49,\n",
       " 10.12,\n",
       " 0.0,\n",
       " 28.15,\n",
       " 33.8,\n",
       " 12.06,\n",
       " 17.93,\n",
       " 22.21,\n",
       " 12.3,\n",
       " 14.64,\n",
       " 11.99,\n",
       " 10.94,\n",
       " 18.51,\n",
       " 0.0,\n",
       " 40.46,\n",
       " 29.53,\n",
       " 18.58,\n",
       " 29.09,\n",
       " 2.46,\n",
       " 38.05,\n",
       " 0.0,\n",
       " 9.15,\n",
       " 11.77,\n",
       " 13.14,\n",
       " 20.74,\n",
       " 13.74,\n",
       " 12.68,\n",
       " 8.72,\n",
       " 4.53,\n",
       " 13.28,\n",
       " 16.58,\n",
       " 0.0,\n",
       " 10.74,\n",
       " 4.47,\n",
       " 10.26,\n",
       " 4.78,\n",
       " 1.48,\n",
       " 13.02,\n",
       " 29.25,\n",
       " 19.43,\n",
       " 9.78,\n",
       " 6.31,\n",
       " 21.64,\n",
       " 30.25,\n",
       " 4.68,\n",
       " 0.0,\n",
       " 16.43,\n",
       " 11.58,\n",
       " 5.31,\n",
       " 12.87,\n",
       " 8.47,\n",
       " 16.67,\n",
       " 5.55,\n",
       " 25.56,\n",
       " 24.39,\n",
       " 19.57,\n",
       " 0.0,\n",
       " 5.31,\n",
       " 15.99,\n",
       " 14.5,\n",
       " 13.54,\n",
       " 12.14,\n",
       " 40.59,\n",
       " 109.38,\n",
       " 50.54,\n",
       " 23.39,\n",
       " 16.04,\n",
       " 15.88,\n",
       " 29.84,\n",
       " 12.44,\n",
       " 0.0,\n",
       " 13.89,\n",
       " 27.67,\n",
       " 3.58,\n",
       " 8.45,\n",
       " 10.74,\n",
       " 36.55,\n",
       " 15.25,\n",
       " 6.7,\n",
       " 16.8,\n",
       " 53.61,\n",
       " 20.04,\n",
       " 26.57,\n",
       " 2.62,\n",
       " 10.12,\n",
       " 2.32,\n",
       " 15.54,\n",
       " 0.0,\n",
       " 46.36,\n",
       " 39.43,\n",
       " 19.64,\n",
       " 14.82,\n",
       " 17.45,\n",
       " 35.91,\n",
       " 16.15,\n",
       " 5.13,\n",
       " 27.28,\n",
       " 0.0,\n",
       " 4.54,\n",
       " 8.27,\n",
       " 13.79,\n",
       " 1.19,\n",
       " 27.58,\n",
       " 8.54,\n",
       " 9.18,\n",
       " 0.81,\n",
       " 9.99,\n",
       " 33.56]"
      ]
     },
     "execution_count": 49,
     "metadata": {},
     "output_type": "execute_result"
    }
   ],
   "source": [
    "# now we're a researcher\n",
    "\n",
    "# assign a variable to population\n",
    "population = list(hourly_pay) # convert numpy array to list\n",
    "len(population) # there are 3,000,000 individuals in this list\n",
    "\n",
    "# we're going to sample 20 people from this population\n",
    "samp1 = random.sample(population, 150)\n",
    "samp1"
   ]
  },
  {
   "cell_type": "code",
   "execution_count": 50,
   "metadata": {},
   "outputs": [
    {
     "data": {
      "text/plain": [
       "16.335399999999996"
      ]
     },
     "execution_count": 50,
     "metadata": {},
     "output_type": "execute_result"
    }
   ],
   "source": [
    "# now let's find the mean of our sample\n",
    "np.mean(samp1)"
   ]
  },
  {
   "cell_type": "code",
   "execution_count": 51,
   "metadata": {},
   "outputs": [
    {
     "data": {
      "image/png": "[encoded data removed]",
      "text/plain": [
       "<Figure size 432x288 with 1 Axes>"
      ]
     },
     "metadata": {
      "needs_background": "light"
     },
     "output_type": "display_data"
    }
   ],
   "source": [
    "# let's plot a histogram of our sample set\n",
    "\n",
    "plt.hist(x=samp1, bins=50)\n",
    "plt.show()"
   ]
  },
  {
   "cell_type": "code",
   "execution_count": 68,
   "metadata": {},
   "outputs": [
    {
     "data": {
      "image/png": "[encoded data removed]",
      "text/plain": [
       "<Figure size 432x288 with 1 Axes>"
      ]
     },
     "metadata": {
      "needs_background": "light"
     },
     "output_type": "display_data"
    }
   ],
   "source": [
    "# now we're going to think about what happens if we collect samples\n",
    "# a lot of times\n",
    "\n",
    "# different samples will give us high or low means\n",
    "\n",
    "# we're going to repeat the sampling process a bunch of times\n",
    "samp_means = [] # an empty list for saving sample means\n",
    "\n",
    "for i in range(10000): # iterate 10 times\n",
    "    samp = random.sample(population, 150) # create a sample of 150 individuals\n",
    "    samp_means.append(np.mean(samp)) # append the mean of each sample to samp_means\n",
    "\n",
    "plt.hist(samp_means, bins=50)\n",
    "plt.xlim(0,40) # set x-axis from 0 to 40\n",
    "plt.show()\n",
    "\n",
    "# mind totally blown - it's a normal distribution\n",
    "# the distribution below is a stark contrast to the population distribution"
   ]
  },
  {
   "cell_type": "code",
   "execution_count": 33,
   "metadata": {},
   "outputs": [
    {
     "data": {
      "image/png": "[encoded data removed]",
      "text/plain": [
       "<Figure size 432x288 with 1 Axes>"
      ]
     },
     "metadata": {
      "needs_background": "light"
     },
     "output_type": "display_data"
    }
   ],
   "source": [
    "samp_means = [] # an empty list for saving sample means\n",
    "\n",
    "for i in range(10000): # iterate 10 times\n",
    "    samp = random.sample(population, 50) # create a sample of 50 individuals\n",
    "    samp_means.append(np.mean(samp)) # append the mean of each sample to samp_means\n",
    "\n",
    "plt.hist(samp_means, bins=50)\n",
    "plt.xlim(0,40) # set x-axis from 0 to 40\n",
    "plt.show()\n",
    "\n",
    "# see the difference between the 50 sample subset and 150 sample subset\n",
    "# the 50 sample subset, the smaller sample size, has a wider distribution\n",
    "# because it's likelier to include outliers that make the mean higher"
   ]
  },
  {
   "cell_type": "code",
   "execution_count": 31,
   "metadata": {},
   "outputs": [
    {
     "name": "stdout",
     "output_type": "stream",
     "text": [
      "sample mean 18.837744426666667\n",
      "population mean 18.83931814333332\n"
     ]
    }
   ],
   "source": [
    "# if we calculate the mean of the sample means\n",
    "print('sample mean', np.mean(samp_means))\n",
    "\n",
    "# and check the population mean\n",
    "print('population mean', mean_salary)\n",
    "\n",
    "# we get almost the same value\n",
    "# samp_means is basically an unbiased estimator of the population mean\n",
    "# the sample means will, on average, be similar to the population mean"
   ]
  },
  {
   "cell_type": "code",
   "execution_count": 48,
   "metadata": {},
   "outputs": [
    {
     "name": "stderr",
     "output_type": "stream",
     "text": [
      "C:\\Users\\athaikdin\\anaconda3\\lib\\site-packages\\seaborn\\distributions.py:2619: FutureWarning: `distplot` is a deprecated function and will be removed in a future version. Please adapt your code to use either `displot` (a figure-level function with similar flexibility) or `histplot` (an axes-level function for histograms).\n",
      "  warnings.warn(msg, FutureWarning)\n"
     ]
    },
    {
     "data": {
      "image/png": "[encoded data removed]",
      "text/plain": [
       "<Figure size 432x288 with 1 Axes>"
      ]
     },
     "metadata": {
      "needs_background": "light"
     },
     "output_type": "display_data"
    }
   ],
   "source": [
    "# why is the normal distribution so valuable?\n",
    "# it helps us understand uncertainty\n",
    "# uncertainty is really the key to stats and inferential stats\n",
    "\n",
    "# the normal distribution tells us how far off we could be when \n",
    "# inferring the population mean, etc from the sample mean\n",
    "\n",
    "# we can determine the shape of the sample means\n",
    "\n",
    "# import stats library\n",
    "from scipy import stats\n",
    "\n",
    "# plot the sample means\n",
    "sns.distplot(samp_means, bins=50)\n",
    "plt.xlim(0,40)\n",
    "\n",
    "# plot the normal distribution on top of it\n",
    "mu = mean_salary # mu is the population mean\n",
    "sigma = np.std(population)/(50**.5) # sigma is the standard error of the mean\n",
    "x = np.linspace(start=mu - 3*sigma, stop=mu + 3*sigma, num=100) # returns evenly spaced numbers over a specified interval\n",
    "plt.plot(x, stats.norm.pdf(x=x, loc=mu, scale=sigma), color='k')\n",
    "\n",
    "# display plot\n",
    "plt.show()\n",
    "\n",
    "# Sigma is the STANDARD ERROR OF THE MEAN\n",
    "\n",
    "# The STANDARD ERROR is the standard deviation of the sampling distribution\n",
    "# it's basically a measure/description of how wide the sampling distribution is\n",
    "\n",
    "# So what did we do?\n",
    "# We drew a normal distribution (using a mathematical formula) that has\n",
    "# a mean that's equal to the population mean and a standard deviation\n",
    "# that's equal to the standard deviation of the population divided by\n",
    "# the square root of the sample size (50**.5 ie square root of 50)"
   ]
  },
  {
   "cell_type": "markdown",
   "metadata": {},
   "source": [
    "# BACK IN RESEARCHER MODE\n",
    "\n",
    "To get the black line, the normal distribution, all we needed was the population mean and the standard deviation of the population and the sample size\n",
    "\n",
    "We can approximate the distribution of the population if we have ESTIMATES of the POPULATION MEAN and the POPULATION STANDARD DEVIATION"
   ]
  },
  {
   "cell_type": "code",
   "execution_count": 52,
   "metadata": {},
   "outputs": [
    {
     "name": "stdout",
     "output_type": "stream",
     "text": [
      "sample mean 16.335399999999996\n",
      "sample st dev 14.315380802013848\n"
     ]
    }
   ],
   "source": [
    "# let's save the mean of the new sample\n",
    "sample_mean = np.mean(samp1)\n",
    "\n",
    "# let's calculate the stdev of the sample\n",
    "sample_sd = np.std(samp1)\n",
    "\n",
    "print('sample mean', sample_mean)\n",
    "print('sample st dev', sample_sd)"
   ]
  },
  {
   "cell_type": "code",
   "execution_count": 69,
   "metadata": {},
   "outputs": [
    {
     "name": "stderr",
     "output_type": "stream",
     "text": [
      "C:\\Users\\athaikdin\\anaconda3\\lib\\site-packages\\seaborn\\distributions.py:2619: FutureWarning: `distplot` is a deprecated function and will be removed in a future version. Please adapt your code to use either `displot` (a figure-level function with similar flexibility) or `histplot` (an axes-level function for histograms).\n",
      "  warnings.warn(msg, FutureWarning)\n"
     ]
    },
    {
     "data": {
      "image/png": "[encoded data removed]",
      "text/plain": [
       "<Figure size 432x288 with 1 Axes>"
      ]
     },
     "metadata": {
      "needs_background": "light"
     },
     "output_type": "display_data"
    }
   ],
   "source": [
    "# plotting the sample means distribution\n",
    "sns.distplot(samp_means, bins=50)\n",
    "plt.xlim(0, 40)\n",
    "\n",
    "# we're going to calculate the 'estimate' normal distribution\n",
    "\n",
    "mu = sample_mean # mean of the normal distribution\n",
    "samp_size = len(samp1)\n",
    "sigma = sample_sd/(samp_size**.5)\n",
    "x = np.linspace(mu - 3*sigma, mu + 3*sigma, 100)\n",
    "plt.plot(x, stats.norm.pdf(x=x, loc=mu, scale=sigma), color='k')\n",
    "\n",
    "plt.show()\n",
    "\n",
    "# We can use the normal distribution we got to estimate the plausible range\n",
    "# of what values we might get if we could observe the entire population\n",
    "# and take samples from it\n",
    "\n",
    "# black line - estimate normal distribution\n",
    "# centred on sample mean\n",
    "\n",
    "# blue line - \n",
    "# centred on population mean\n",
    "\n",
    "# BUT THE WIDTH OF THE DISTRIBUTION IS WHAT WE REALLY CARE ABOUT\n",
    "# helps us figure out a plausible range that the population mean might be in\n",
    "# this allows us to say 'the population mean is somewhere between 13 and 20'"
   ]
  },
  {
   "cell_type": "code",
   "execution_count": 72,
   "metadata": {},
   "outputs": [
    {
     "name": "stdout",
     "output_type": "stream",
     "text": [
      "lower_ci is 18.626295961462027\n",
      "upper_ci is 14.044504038537966\n",
      "Our sample mean is 16.335399999999996 but we are 95% confident that the true population mean is somewhere between 14.044504038537966 and 18.626295961462027\n"
     ]
    }
   ],
   "source": [
    "# we're trying to find the 2.5th percentile and the 97.5th percentile of\n",
    "# the black line - the estimated normal distribution\n",
    "\n",
    "# are we trimming 5% of the dataset?\n",
    "# ci stands for confidence interval\n",
    "\n",
    "lower_ci = stats.norm.ppf(q=0.975, loc=sample_mean, scale=sigma)\n",
    "upper_ci = stats.norm.ppf(q=0.025, loc=sample_mean, scale=sigma) # percent point function at q\n",
    "print('lower_ci is', lower_ci)\n",
    "print('upper_ci is', upper_ci)\n",
    "\n",
    "# so we would say that\n",
    "print ('Our sample mean is', sample_mean, 'but we are 95% confident that the true population mean is somewhere between', upper_ci, 'and', lower_ci)"
   ]
  },
  {
   "cell_type": "markdown",
   "metadata": {},
   "source": [
    "The confidence interval (CI) is a range of values that’s likely to include a population value with a certain degree of confidence. It is often expressed as a % whereby a population mean lies between an upper and lower interval."
   ]
  },
  {
   "cell_type": "markdown",
   "metadata": {},
   "source": [
    "The true power of the Central Limit Theorem (CLT) is that it gives us how much variation to expect"
   ]
  }
 ],
 "metadata": {
  "kernelspec": {
   "display_name": "Python 3 (ipykernel)",
   "language": "python",
   "name": "python3"
  },
  "language_info": {
   "codemirror_mode": {
    "name": "ipython",
    "version": 3
   },
   "file_extension": ".py",
   "mimetype": "text/x-python",
   "name": "python",
   "nbconvert_exporter": "python",
   "pygments_lexer": "ipython3",
   "version": "3.9.7"
  }
 },
 "nbformat": 4,
 "nbformat_minor": 4
}
