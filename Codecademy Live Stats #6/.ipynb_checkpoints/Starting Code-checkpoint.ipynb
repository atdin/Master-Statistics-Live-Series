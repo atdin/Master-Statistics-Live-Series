{
 "cells": [
  {
   "cell_type": "code",
   "execution_count": 29,
   "metadata": {},
   "outputs": [],
   "source": [
    "import pandas as pd\n",
    "import numpy as np\n",
    "import matplotlib.pyplot as plt \n",
    "import seaborn as sns\n",
    "import random"
   ]
  },
  {
   "cell_type": "code",
   "execution_count": 30,
   "metadata": {},
   "outputs": [
    {
     "data": {
      "text/html": [
       "<div>\n",
       "<style scoped>\n",
       "    .dataframe tbody tr th:only-of-type {\n",
       "        vertical-align: middle;\n",
       "    }\n",
       "\n",
       "    .dataframe tbody tr th {\n",
       "        vertical-align: top;\n",
       "    }\n",
       "\n",
       "    .dataframe thead th {\n",
       "        text-align: right;\n",
       "    }\n",
       "</style>\n",
       "<table border=\"1\" class=\"dataframe\">\n",
       "  <thead>\n",
       "    <tr style=\"text-align: right;\">\n",
       "      <th></th>\n",
       "      <th>timestamp</th>\n",
       "      <th>purchase</th>\n",
       "      <th>item</th>\n",
       "    </tr>\n",
       "  </thead>\n",
       "  <tbody>\n",
       "    <tr>\n",
       "      <th>0</th>\n",
       "      <td>2020-01-17 17:23:06</td>\n",
       "      <td>y</td>\n",
       "      <td>cue cards - love actually</td>\n",
       "    </tr>\n",
       "    <tr>\n",
       "      <th>1</th>\n",
       "      <td>2020-01-25 17:09:39</td>\n",
       "      <td>n</td>\n",
       "      <td>NaN</td>\n",
       "    </tr>\n",
       "    <tr>\n",
       "      <th>2</th>\n",
       "      <td>2020-01-25 05:22:01</td>\n",
       "      <td>n</td>\n",
       "      <td>NaN</td>\n",
       "    </tr>\n",
       "    <tr>\n",
       "      <th>3</th>\n",
       "      <td>2020-01-18 04:33:40</td>\n",
       "      <td>y</td>\n",
       "      <td>t-rex - jurassic park</td>\n",
       "    </tr>\n",
       "    <tr>\n",
       "      <th>4</th>\n",
       "      <td>2020-01-24 17:24:52</td>\n",
       "      <td>n</td>\n",
       "      <td>NaN</td>\n",
       "    </tr>\n",
       "    <tr>\n",
       "      <th>...</th>\n",
       "      <td>...</td>\n",
       "      <td>...</td>\n",
       "      <td>...</td>\n",
       "    </tr>\n",
       "    <tr>\n",
       "      <th>495</th>\n",
       "      <td>2020-01-16 08:40:02</td>\n",
       "      <td>n</td>\n",
       "      <td>NaN</td>\n",
       "    </tr>\n",
       "    <tr>\n",
       "      <th>496</th>\n",
       "      <td>2020-01-09 21:11:19</td>\n",
       "      <td>n</td>\n",
       "      <td>NaN</td>\n",
       "    </tr>\n",
       "    <tr>\n",
       "      <th>497</th>\n",
       "      <td>2020-01-31 08:54:51</td>\n",
       "      <td>n</td>\n",
       "      <td>NaN</td>\n",
       "    </tr>\n",
       "    <tr>\n",
       "      <th>498</th>\n",
       "      <td>2020-01-21 19:35:03</td>\n",
       "      <td>n</td>\n",
       "      <td>NaN</td>\n",
       "    </tr>\n",
       "    <tr>\n",
       "      <th>499</th>\n",
       "      <td>2020-01-31 09:48:43</td>\n",
       "      <td>n</td>\n",
       "      <td>NaN</td>\n",
       "    </tr>\n",
       "  </tbody>\n",
       "</table>\n",
       "<p>500 rows × 3 columns</p>\n",
       "</div>"
      ],
      "text/plain": [
       "               timestamp purchase                       item\n",
       "0    2020-01-17 17:23:06        y  cue cards - love actually\n",
       "1    2020-01-25 17:09:39        n                        NaN\n",
       "2    2020-01-25 05:22:01        n                        NaN\n",
       "3    2020-01-18 04:33:40        y      t-rex - jurassic park\n",
       "4    2020-01-24 17:24:52        n                        NaN\n",
       "..                   ...      ...                        ...\n",
       "495  2020-01-16 08:40:02        n                        NaN\n",
       "496  2020-01-09 21:11:19        n                        NaN\n",
       "497  2020-01-31 08:54:51        n                        NaN\n",
       "498  2020-01-21 19:35:03        n                        NaN\n",
       "499  2020-01-31 09:48:43        n                        NaN\n",
       "\n",
       "[500 rows x 3 columns]"
      ]
     },
     "execution_count": 30,
     "metadata": {},
     "output_type": "execute_result"
    }
   ],
   "source": [
    "monthly_report = pd.read_csv('monthly_report.csv')\n",
    "monthly_report"
   ]
  },
  {
   "cell_type": "markdown",
   "metadata": {},
   "source": [
    "### Potential Hypothesis Errors"
   ]
  },
  {
   "cell_type": "markdown",
   "metadata": {},
   "source": [
    "|    **Null hypothesis:** | **is true**  | **is false**  |\n",
    "|------------------------:|--------------|---------------|\n",
    "| P-value below threshold (significant)   | Type I Error | Correct!      |\n",
    "| P-value above threshold (not significant) | Correct!     | Type II error |"
   ]
  },
  {
   "cell_type": "markdown",
   "metadata": {},
   "source": [
    "If the null hypothesis is true, we want the p-value to be above the threshold (ie p-value 0.07 is above the 0.05 threshold).\n",
    "\n",
    "If the null hypothesis is true, how often are we going to make a Type I error."
   ]
  },
  {
   "cell_type": "code",
   "execution_count": 83,
   "metadata": {},
   "outputs": [
    {
     "data": {
      "text/plain": [
       "0.0428"
      ]
     },
     "execution_count": 83,
     "metadata": {},
     "output_type": "execute_result"
    }
   ],
   "source": [
    "type_1_errors = 0 # created a counter to track no. of type 1 errors\n",
    "\n",
    "for i in range(10000):\n",
    "    simulated_visitors = np.random.choice(a=['y', 'n'], size=500, p=[.1, .9])\n",
    "    purchases = (simulated_visitors == 'y').sum()\n",
    "    p_value = binom_test(purchases, n=500, p=0.1)\n",
    "    if p_value < 0.05:\n",
    "        type_1_errors += 1\n",
    "        \n",
    "type_1_errors/10000 # percentage of Type I errors per 10,000 experiments\n",
    "\n",
    "# basically, the point is: the Type I error rate we got (0.0428) is pretty\n",
    "# close to the threshold because the p-value distribution is uniformly distributed\n",
    "# as a result of the sample and the null hypotheis having the same p-value\n",
    "\n",
    "# if you use a threshold of .05, then exactly 5% of the time you're going to \n",
    "# a p-value that's less than .05\n",
    "\n",
    "# basically whatever significance threshold you set becomes the Type I\n",
    "# error rate for your test. And so if you're going to reject a null hypothesis\n",
    "# when the p-value is less than .05, YOU'RE ESSENTIALLY SAYING THAT YOU'RE\n",
    "# OKAY WITH THE IDEA THAT 5% OF THE TIME THE NULL HYPOTHESIS IS GOING TO BE\n",
    "# TRUE AND I'LL STILL REJECT THE NULL"
   ]
  },
  {
   "cell_type": "code",
   "execution_count": 87,
   "metadata": {},
   "outputs": [
    {
     "data": {
      "text/plain": [
       "0.10011352697567076"
      ]
     },
     "execution_count": 87,
     "metadata": {},
     "output_type": "execute_result"
    }
   ],
   "source": [
    "binom_test(41, n=500, p=0.1, alternative='less')"
   ]
  },
  {
   "cell_type": "markdown",
   "metadata": {},
   "source": [
    "# Multiple Hypothesis Tests & Significance Thresholds"
   ]
  },
  {
   "cell_type": "code",
   "execution_count": 31,
   "metadata": {},
   "outputs": [],
   "source": [
    "# In the last session, we discussed the p-value as an \n",
    "# outcome of a hypothesis test\n",
    "# What can you do with a p-value? To answer this question,\n",
    "# we have to think a bit about what it means to make a decision\n",
    "# based off of a probability\n",
    "\n",
    "# this is very important because of the 'reproducibility crisis'\n",
    "# it's an issue related to a problem called p-hacking\n",
    "\n"
   ]
  },
  {
   "cell_type": "code",
   "execution_count": 32,
   "metadata": {},
   "outputs": [],
   "source": [
    "# we want to know the probability if it is worth making the decision\n",
    "# to do this, we choose a threshold\n",
    "# any p-value below this threshold, we deem it significant \n",
    "# in other words, it's enough for us to reject the null hypothesis\n",
    "\n",
    "# the idea here is that the null hypothesis of our example is that \n",
    "# the probability of a purchase is 10%. If we get data that challenges\n",
    "# this null hypothesis, then we're going to reject it\n",
    "# (reject the null hypothesis in favour of the alternative)\n",
    "# we haven't calculated the probability of the alternative hypothesis\n",
    "# but we have enough evidence to suggest that the null hypothesis can be rejected\n",
    "\n",
    "# in layman terms\n",
    "# if you reject the null hypothesis, it's unlikely that the null hypothesis is true\n",
    "# if you fail to reject the null hypothesis, then you're saying there's not enough evidence\n",
    "# for me to say that the null hypothesis is not true"
   ]
  },
  {
   "cell_type": "code",
   "execution_count": 61,
   "metadata": {},
   "outputs": [
    {
     "data": {
      "text/plain": [
       "41"
      ]
     },
     "execution_count": 61,
     "metadata": {},
     "output_type": "execute_result"
    }
   ],
   "source": [
    "# let's check how many visitors purchased something from our website in our sample of 500\n",
    "monthly_purchase = (monthly_report['purchase'] == 'y').sum()\n",
    "monthly_purchase"
   ]
  },
  {
   "cell_type": "code",
   "execution_count": 34,
   "metadata": {},
   "outputs": [
    {
     "data": {
      "text/plain": [
       "51"
      ]
     },
     "execution_count": 34,
     "metadata": {},
     "output_type": "execute_result"
    }
   ],
   "source": [
    "# and now let's simulate another sample of 500 visitors and see how many bought items from our website\n",
    "\n",
    "simulated_visitors = np.random.choice(['y', 'n'], size=500, p=[.1, .9])\n",
    "simulated_purchases = (simulated_visitors == 'y').sum()\n",
    "simulated_purchases\n",
    "\n",
    "\n"
   ]
  },
  {
   "cell_type": "code",
   "execution_count": 69,
   "metadata": {},
   "outputs": [
    {
     "name": "stdout",
     "output_type": "stream",
     "text": [
      "purchases = 39\n",
      "p_value = 0.05501549928983551\n"
     ]
    }
   ],
   "source": [
    "# so let's write additional code that runs a binomial test each time we \n",
    "# run the simulation and calculate the p-value\n",
    "\n",
    "from scipy.stats import binom_test\n",
    "\n",
    "simulated_visitors = np.random.choice(['y', 'n'], size=500, p=[.1, .9])\n",
    "simulated_purchases = (simulated_visitors == 'y').sum()\n",
    "p_value = binom_test(x=simulated_purchases, n=500, p=0.1, alternative='less')\n",
    "print('purchases =', simulated_purchases)\n",
    "print('p_value =', p_value)\n",
    "\n",
    "# remember our null hypothesis: purchase rate is 10%\n",
    "# our alternative hypothesis: purchase rate is <10%\n",
    "\n",
    "# SO we can interpret the p-value below as:\n",
    "# purchases = 56\n",
    "# p_value = 0.8341472404372196\n",
    "# THERE'S A 83.4% CHANCE OF OBSERVING 56 OR FEWER PURCHASES GIVEN THAT\n",
    "# THE PURCHASE RATE IS 10%\n",
    "# note: the p-values that we get are rather high because we are asking for \n",
    "# X value OR lower (meaning we include all values lower than X)\n",
    "# p-value would be smaller if it's two-sided"
   ]
  },
  {
   "cell_type": "code",
   "execution_count": 71,
   "metadata": {},
   "outputs": [
    {
     "name": "stdout",
     "output_type": "stream",
     "text": [
      "purchases = 60\n",
      "p_value = 0.938174522813001\n"
     ]
    },
    {
     "data": {
      "image/png": "[encoded data removed]",
      "text/plain": [
       "<Figure size 432x288 with 1 Axes>"
      ]
     },
     "metadata": {
      "needs_background": "light"
     },
     "output_type": "display_data"
    }
   ],
   "source": [
    "# let's visualise the simulation\n",
    "\n",
    "# a sample simulation of 500 visitors\n",
    "simulated_visitors = np.random.choice(['y', 'n'], size=500, p=[.1, .9])\n",
    "simulated_purchases = (simulated_visitors == 'y').sum()\n",
    "p_value = binom_test(x=simulated_purchases, n=500, p=0.1, alternative='less')\n",
    "print('purchases =', simulated_purchases)\n",
    "print('p_value =', p_value)\n",
    "\n",
    "# the binomial distribution of the null hypothesis\n",
    "null_purchases = []\n",
    "for i in range(10000):\n",
    "    simulated_visitors = np.random.choice(a=['y', 'n'], size=500, p=[.1,.9]) # we expected the probability of a purchase to be 10% or .1\n",
    "    purchases = (simulated_visitors == 'y').sum()\n",
    "    null_purchases.append(purchases)\n",
    "\n",
    "# a histogram of the null hypothesis binomial distribution and \n",
    "# a line representing the simulated purchase\n",
    "plt.hist(null_purchases, density=True)\n",
    "plt.axvline(simulated_purchases, color='r') # adds a vertical line\n",
    "plt.xlabel('number of purchases')\n",
    "plt.ylabel('probability')\n",
    "plt.show()"
   ]
  },
  {
   "cell_type": "code",
   "execution_count": 72,
   "metadata": {},
   "outputs": [],
   "source": [
    "# let's simulate p-vals\n",
    "\n",
    "# create an empty list for storing p-values\n",
    "p_vals = []\n",
    "\n",
    "for i in range(1000):\n",
    "    simulated_visitors = np.random.choice(a=['y', 'n'], size=500, p=[.1,.9]) # we expected the probability of a purchase to be 10% or .1\n",
    "    purchases = (simulated_visitors == 'y').sum()\n",
    "    p_value = binom_test(x=purchases, n=500, p=.1)\n",
    "    p_vals.append(p_value)"
   ]
  },
  {
   "cell_type": "code",
   "execution_count": 73,
   "metadata": {},
   "outputs": [
    {
     "data": {
      "text/plain": [
       "(array([ 94.,  84., 102.,  69.,  80., 100., 110., 110., 118., 133.]),\n",
       " array([0.00127836, 0.10115052, 0.20102269, 0.30089485, 0.40076701,\n",
       "        0.50063918, 0.60051134, 0.70038351, 0.80025567, 0.90012784,\n",
       "        1.        ]),\n",
       " <BarContainer object of 10 artists>)"
      ]
     },
     "execution_count": 73,
     "metadata": {},
     "output_type": "execute_result"
    },
    {
     "data": {
      "image/png": "[encoded data removed]",
      "text/plain": [
       "<Figure size 432x288 with 1 Axes>"
      ]
     },
     "metadata": {
      "needs_background": "light"
     },
     "output_type": "display_data"
    }
   ],
   "source": [
    "# plot the distribution of p-values\n",
    "\n",
    "plt.hist(p_vals)\n",
    "\n",
    "# SURPRISE! We get what's known as a UNIFORM DISTRIBUTION.\n",
    "# Which means, in fact, if the null hypothesis is true, you're equally\n",
    "# likely to get any p-value that's between 0 and 1"
   ]
  },
  {
   "cell_type": "markdown",
   "metadata": {},
   "source": [
    "### SUPER IMPORTANT THING TO UNDERSTAND FOR THE CONTEXT OF WHEN YOU MAKE MISTAKES IN HYPOTHESIS TESTING\n",
    "\n",
    "1. We simulated a sample where the true probability of a purchase was 0.1.\n",
    "2. Then we ran a binomial test where the null hypothesis was that the purchase rate was 0.1.\n",
    "3. So when we when we ran binomial test to get the p-value, every single time we ran this hypothesis test the null hypothesis was actually true.\n",
    "---\n",
    "4. Because we simulated the sample like the way that we got the sample number of purchases was that we simulated a sample where the null hypothesis was true, where the purchase rate really was 0.1.\n",
    "5. So because we simulated our sample saying the purchase rate is 0.1, then when we ran this test with the null hypothesis that the purchase rate is 0.1,  we're running this test where the null hypothesis is TRUE."
   ]
  },
  {
   "cell_type": "markdown",
   "metadata": {},
   "source": [
    "### Key Takeaway\n",
    "\n",
    "When we run an experiment and we use a significance threshold, the p-value is probabilistic. Remember that the p-value is the probability of observing something OR more extreme given that the null hypothesis is true.\n",
    "\n",
    "Even if you get a p-value of .001, that doesn't mean that what you observe is not possible; it just means that it's unlikely, but you can still observe that. So you have to have some threshold for error. AAH, threshold for the Type I ERROR! \n",
    "\n",
    "When people, many people, use the 5% significance threshold, it means that 5% of all the tests that have been run with a significance threshold of 5% are WRONG. What ends up happening is that for 100 tests that are run, 5 of them would result in a p-value below the threshold (significant p-value) [despite the null hypothesis being true?]\n",
    "\n",
    "And if all you do is report and act upon the experiments with significant p-values, you're acting upon a mistake and then that experiment might not be reproducible."
   ]
  },
  {
   "cell_type": "markdown",
   "metadata": {},
   "source": [
    "### Follow-up Explanation\n",
    "\n",
    "Adding some more contextualization/explanation as promised: First, the reason why the distribution of p-values looked a little spiky is that technically the distribution is discrete (because we can only have between 0 and 500 purchases in a sample of 500 visitors, there are only 501 p-values that could be associated with those numbers -- and a much smaller number that we actually observe in 10000 iterations). Technically, that means the distribution is not uniform (because the uniform distribution is continuous), but it approaches uniform for a large enough sample size.\n",
    "\n",
    "Second, a way to conceptualize that uniform distribution. In retrospect, it's probably easier to think about with a one-sided test, although similar logic applies for two-sided. When we calculate that the p-value for 41 purchases is 0.10, we're saying that there's a 10% probability of observing 41 or fewer purchases if the null hypothesis is true. That means we also have a 10% chance of observing a p-value less than or equal to 0.10. The same is true for any p-value (assuming the 1-sided lower tail test): We have a 20% chance of observing a p-value less than 0.2; a 50% chance of observing a p-value less than 0.5; and so on. This observation is really the most important takeaway (under the null, 5% of the p-values will be less than 0.05 by random chance). To understand why this translates to an approximately uniform distribution, we can think about any range of p-values: There's a 10% chance of a p-value less than 0.10; a 10% chance of a p-value between 0.10 and 0.20 (because there is a 20% chance of a p-value less than 0.10 OR between 0.10-0.20); and so on."
   ]
  }
 ],
 "metadata": {
  "kernelspec": {
   "display_name": "Python 3 (ipykernel)",
   "language": "python",
   "name": "python3"
  },
  "language_info": {
   "codemirror_mode": {
    "name": "ipython",
    "version": 3
   },
   "file_extension": ".py",
   "mimetype": "text/x-python",
   "name": "python",
   "nbconvert_exporter": "python",
   "pygments_lexer": "ipython3",
   "version": "3.9.7"
  }
 },
 "nbformat": 4,
 "nbformat_minor": 4
}
