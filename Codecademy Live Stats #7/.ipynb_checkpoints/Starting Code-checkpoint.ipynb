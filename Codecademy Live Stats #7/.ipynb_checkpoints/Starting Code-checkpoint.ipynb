{
 "cells": [
  {
   "cell_type": "code",
   "execution_count": 1,
   "metadata": {},
   "outputs": [],
   "source": [
    "import pandas as pd\n",
    "import numpy as np\n",
    "import matplotlib.pyplot as plt \n",
    "import seaborn as sns"
   ]
  },
  {
   "cell_type": "markdown",
   "metadata": {},
   "source": [
    "The data was downloaded from the [UCI Machine Learning Repository](https://archive.ics.uci.edu/ml/datasets/Heart+Disease) and then cleaned for analysis. The principal investigators responsible for data collection were:\n",
    "\n",
    "1. Hungarian Institute of Cardiology. Budapest: Andras Janosi, M.D.\n",
    "2. University Hospital, Zurich, Switzerland: William Steinbrunn, M.D.\n",
    "3. University Hospital, Basel, Switzerland: Matthias Pfisterer, M.D.\n",
    "4. V.A. Medical Center, Long Beach and Cleveland Clinic Foundation: Robert Detrano, M.D., Ph.D."
   ]
  },
  {
   "cell_type": "code",
   "execution_count": 2,
   "metadata": {},
   "outputs": [
    {
     "data": {
      "text/html": [
       "<div>\n",
       "<style scoped>\n",
       "    .dataframe tbody tr th:only-of-type {\n",
       "        vertical-align: middle;\n",
       "    }\n",
       "\n",
       "    .dataframe tbody tr th {\n",
       "        vertical-align: top;\n",
       "    }\n",
       "\n",
       "    .dataframe thead th {\n",
       "        text-align: right;\n",
       "    }\n",
       "</style>\n",
       "<table border=\"1\" class=\"dataframe\">\n",
       "  <thead>\n",
       "    <tr style=\"text-align: right;\">\n",
       "      <th></th>\n",
       "      <th>age</th>\n",
       "      <th>sex</th>\n",
       "      <th>trestbps</th>\n",
       "      <th>chol</th>\n",
       "      <th>cp</th>\n",
       "      <th>exang</th>\n",
       "      <th>fbs</th>\n",
       "      <th>thalach</th>\n",
       "      <th>heart_disease</th>\n",
       "    </tr>\n",
       "  </thead>\n",
       "  <tbody>\n",
       "    <tr>\n",
       "      <th>0</th>\n",
       "      <td>63.0</td>\n",
       "      <td>male</td>\n",
       "      <td>145.0</td>\n",
       "      <td>233.0</td>\n",
       "      <td>typical angina</td>\n",
       "      <td>0.0</td>\n",
       "      <td>1.0</td>\n",
       "      <td>150.0</td>\n",
       "      <td>absence</td>\n",
       "    </tr>\n",
       "    <tr>\n",
       "      <th>1</th>\n",
       "      <td>67.0</td>\n",
       "      <td>male</td>\n",
       "      <td>160.0</td>\n",
       "      <td>286.0</td>\n",
       "      <td>asymptomatic</td>\n",
       "      <td>1.0</td>\n",
       "      <td>0.0</td>\n",
       "      <td>108.0</td>\n",
       "      <td>presence</td>\n",
       "    </tr>\n",
       "    <tr>\n",
       "      <th>2</th>\n",
       "      <td>67.0</td>\n",
       "      <td>male</td>\n",
       "      <td>120.0</td>\n",
       "      <td>229.0</td>\n",
       "      <td>asymptomatic</td>\n",
       "      <td>1.0</td>\n",
       "      <td>0.0</td>\n",
       "      <td>129.0</td>\n",
       "      <td>presence</td>\n",
       "    </tr>\n",
       "    <tr>\n",
       "      <th>3</th>\n",
       "      <td>37.0</td>\n",
       "      <td>male</td>\n",
       "      <td>130.0</td>\n",
       "      <td>250.0</td>\n",
       "      <td>non-anginal pain</td>\n",
       "      <td>0.0</td>\n",
       "      <td>0.0</td>\n",
       "      <td>187.0</td>\n",
       "      <td>absence</td>\n",
       "    </tr>\n",
       "    <tr>\n",
       "      <th>4</th>\n",
       "      <td>41.0</td>\n",
       "      <td>female</td>\n",
       "      <td>130.0</td>\n",
       "      <td>204.0</td>\n",
       "      <td>atypical angina</td>\n",
       "      <td>0.0</td>\n",
       "      <td>0.0</td>\n",
       "      <td>172.0</td>\n",
       "      <td>absence</td>\n",
       "    </tr>\n",
       "  </tbody>\n",
       "</table>\n",
       "</div>"
      ],
      "text/plain": [
       "    age     sex  trestbps   chol                cp  exang  fbs  thalach  \\\n",
       "0  63.0    male     145.0  233.0    typical angina    0.0  1.0    150.0   \n",
       "1  67.0    male     160.0  286.0      asymptomatic    1.0  0.0    108.0   \n",
       "2  67.0    male     120.0  229.0      asymptomatic    1.0  0.0    129.0   \n",
       "3  37.0    male     130.0  250.0  non-anginal pain    0.0  0.0    187.0   \n",
       "4  41.0  female     130.0  204.0   atypical angina    0.0  0.0    172.0   \n",
       "\n",
       "  heart_disease  \n",
       "0       absence  \n",
       "1      presence  \n",
       "2      presence  \n",
       "3       absence  \n",
       "4       absence  "
      ]
     },
     "execution_count": 2,
     "metadata": {},
     "output_type": "execute_result"
    }
   ],
   "source": [
    "heart = pd.read_csv('heart_disease.csv')\n",
    "heart.head()"
   ]
  },
  {
   "cell_type": "markdown",
   "metadata": {},
   "source": [
    "# Hypothesis Testing for an Association"
   ]
  },
  {
   "cell_type": "code",
   "execution_count": 3,
   "metadata": {},
   "outputs": [
    {
     "name": "stdout",
     "output_type": "stream",
     "text": [
      "<class 'pandas.core.frame.DataFrame'>\n",
      "RangeIndex: 303 entries, 0 to 302\n",
      "Data columns (total 9 columns):\n",
      " #   Column         Non-Null Count  Dtype  \n",
      "---  ------         --------------  -----  \n",
      " 0   age            303 non-null    float64\n",
      " 1   sex            303 non-null    object \n",
      " 2   trestbps       303 non-null    float64\n",
      " 3   chol           303 non-null    float64\n",
      " 4   cp             303 non-null    object \n",
      " 5   exang          303 non-null    float64\n",
      " 6   fbs            303 non-null    float64\n",
      " 7   thalach        303 non-null    float64\n",
      " 8   heart_disease  303 non-null    object \n",
      "dtypes: float64(6), object(3)\n",
      "memory usage: 21.4+ KB\n"
     ]
    }
   ],
   "source": [
    "heart.info()\n",
    "\n",
    "# Questions we can ask\n",
    "# 1. Are there more males or females who are diagnosed with heart disease?\n",
    "# 2. Do people who are diagnosed with heart disease tend to have more cholesterol?\n",
    "\n",
    "# We'll try to think about how this dataset can tell us about heart disease\n",
    "# more generally. Based on this data (assumed to have been randomly collected),\n",
    "# what variables (things about a person) are most predictive about whether or not\n",
    "# they're diagnosed with heart disease out in the world."
   ]
  },
  {
   "cell_type": "code",
   "execution_count": 4,
   "metadata": {},
   "outputs": [
    {
     "data": {
      "text/html": [
       "<div>\n",
       "<style scoped>\n",
       "    .dataframe tbody tr th:only-of-type {\n",
       "        vertical-align: middle;\n",
       "    }\n",
       "\n",
       "    .dataframe tbody tr th {\n",
       "        vertical-align: top;\n",
       "    }\n",
       "\n",
       "    .dataframe thead th {\n",
       "        text-align: right;\n",
       "    }\n",
       "</style>\n",
       "<table border=\"1\" class=\"dataframe\">\n",
       "  <thead>\n",
       "    <tr style=\"text-align: right;\">\n",
       "      <th></th>\n",
       "      <th>age</th>\n",
       "      <th>trestbps</th>\n",
       "      <th>chol</th>\n",
       "      <th>exang</th>\n",
       "      <th>fbs</th>\n",
       "      <th>thalach</th>\n",
       "    </tr>\n",
       "    <tr>\n",
       "      <th>heart_disease</th>\n",
       "      <th></th>\n",
       "      <th></th>\n",
       "      <th></th>\n",
       "      <th></th>\n",
       "      <th></th>\n",
       "      <th></th>\n",
       "    </tr>\n",
       "  </thead>\n",
       "  <tbody>\n",
       "    <tr>\n",
       "      <th>absence</th>\n",
       "      <td>52.585366</td>\n",
       "      <td>129.250000</td>\n",
       "      <td>242.640244</td>\n",
       "      <td>0.140244</td>\n",
       "      <td>0.140244</td>\n",
       "      <td>158.378049</td>\n",
       "    </tr>\n",
       "    <tr>\n",
       "      <th>presence</th>\n",
       "      <td>56.625899</td>\n",
       "      <td>134.568345</td>\n",
       "      <td>251.474820</td>\n",
       "      <td>0.546763</td>\n",
       "      <td>0.158273</td>\n",
       "      <td>139.258993</td>\n",
       "    </tr>\n",
       "  </tbody>\n",
       "</table>\n",
       "</div>"
      ],
      "text/plain": [
       "                     age    trestbps        chol     exang       fbs  \\\n",
       "heart_disease                                                          \n",
       "absence        52.585366  129.250000  242.640244  0.140244  0.140244   \n",
       "presence       56.625899  134.568345  251.474820  0.546763  0.158273   \n",
       "\n",
       "                  thalach  \n",
       "heart_disease              \n",
       "absence        158.378049  \n",
       "presence       139.258993  "
      ]
     },
     "execution_count": 4,
     "metadata": {},
     "output_type": "execute_result"
    }
   ],
   "source": [
    "# SIMULATION OF TEST 1\n",
    "# Side note: It's interesting to think about looking at an association and \n",
    "# figuring out whether you can use that association to make a prediction.\n",
    "# If you see an association in the data, it doesn't necessarily mean\n",
    "# that one thing CAUSES another. It also doesn't tell you anything about the WHY.\n",
    "\n",
    "# Experiment design is important\n",
    "\n",
    "# start by performing summary stats on variables of interest\n",
    "heart.groupby(by='heart_disease').mean()\n",
    "# the instructor looked at 'MEAN DIFFERENCES'. He focused on the \n",
    "# thalach column because the mean difference is about 19-pretty big\n",
    "# also the chol level column - seems to be a pretty big mean difference"
   ]
  },
  {
   "cell_type": "code",
   "execution_count": 5,
   "metadata": {},
   "outputs": [
    {
     "data": {
      "text/html": [
       "<div>\n",
       "<style scoped>\n",
       "    .dataframe tbody tr th:only-of-type {\n",
       "        vertical-align: middle;\n",
       "    }\n",
       "\n",
       "    .dataframe tbody tr th {\n",
       "        vertical-align: top;\n",
       "    }\n",
       "\n",
       "    .dataframe thead th {\n",
       "        text-align: right;\n",
       "    }\n",
       "</style>\n",
       "<table border=\"1\" class=\"dataframe\">\n",
       "  <thead>\n",
       "    <tr style=\"text-align: right;\">\n",
       "      <th></th>\n",
       "      <th>age</th>\n",
       "      <th>trestbps</th>\n",
       "      <th>chol</th>\n",
       "      <th>exang</th>\n",
       "      <th>fbs</th>\n",
       "      <th>thalach</th>\n",
       "    </tr>\n",
       "    <tr>\n",
       "      <th>heart_disease</th>\n",
       "      <th></th>\n",
       "      <th></th>\n",
       "      <th></th>\n",
       "      <th></th>\n",
       "      <th></th>\n",
       "      <th></th>\n",
       "    </tr>\n",
       "  </thead>\n",
       "  <tbody>\n",
       "    <tr>\n",
       "      <th>absence</th>\n",
       "      <td>52.0</td>\n",
       "      <td>130.0</td>\n",
       "      <td>234.5</td>\n",
       "      <td>0.0</td>\n",
       "      <td>0.0</td>\n",
       "      <td>161.0</td>\n",
       "    </tr>\n",
       "    <tr>\n",
       "      <th>presence</th>\n",
       "      <td>58.0</td>\n",
       "      <td>130.0</td>\n",
       "      <td>249.0</td>\n",
       "      <td>1.0</td>\n",
       "      <td>0.0</td>\n",
       "      <td>142.0</td>\n",
       "    </tr>\n",
       "  </tbody>\n",
       "</table>\n",
       "</div>"
      ],
      "text/plain": [
       "                age  trestbps   chol  exang  fbs  thalach\n",
       "heart_disease                                            \n",
       "absence        52.0     130.0  234.5    0.0  0.0    161.0\n",
       "presence       58.0     130.0  249.0    1.0  0.0    142.0"
      ]
     },
     "execution_count": 5,
     "metadata": {},
     "output_type": "execute_result"
    }
   ],
   "source": [
    "# now let's take a look at the median\n",
    "heart.groupby(by='heart_disease').median()\n",
    "\n",
    "# interesting: same median for the resting blood pressure\n",
    "# median age difference is larger too"
   ]
  },
  {
   "cell_type": "code",
   "execution_count": 6,
   "metadata": {},
   "outputs": [
    {
     "data": {
      "text/plain": [
       "<AxesSubplot:xlabel='heart_disease', ylabel='thalach'>"
      ]
     },
     "execution_count": 6,
     "metadata": {},
     "output_type": "execute_result"
    },
    {
     "data": {
      "image/png": "[encoded data removed]",
      "text/plain": [
       "<Figure size 432x288 with 1 Axes>"
      ]
     },
     "metadata": {
      "needs_background": "light"
     },
     "output_type": "display_data"
    }
   ],
   "source": [
    "# create a boxplot to see the difference between thalach for have_disease and no_disease\n",
    "sns.boxplot(x=heart['heart_disease'], y=heart['thalach'])\n",
    "\n",
    "# We can see that thalach (maximum heart rate achieved during exercise)\n",
    "# was higher for people without heart disease. Those with heart disease\n",
    "# experience a limit in trying to get their heart rate high during exercise"
   ]
  },
  {
   "cell_type": "code",
   "execution_count": 10,
   "metadata": {},
   "outputs": [
    {
     "data": {
      "text/plain": [
       "<AxesSubplot:xlabel='heart_disease', ylabel='trestbps'>"
      ]
     },
     "execution_count": 10,
     "metadata": {},
     "output_type": "execute_result"
    },
    {
     "data": {
      "image/png": "[encoded data removed]",
      "text/plain": [
       "<Figure size 432x288 with 1 Axes>"
      ]
     },
     "metadata": {
      "needs_background": "light"
     },
     "output_type": "display_data"
    }
   ],
   "source": [
    "# create a boxplot to see the difference for trestbps\n",
    "sns.boxplot(x=heart['heart_disease'], y=heart['trestbps'])\n",
    "\n",
    "# it seems like resting blood pressure was slightly higher for people\n",
    "# who were diagnosed with heart disease\n",
    "\n",
    "# looking at the plot below, there's a larger range for resting blood pressure\n",
    "# for people who were diagnosed with heart disease\n",
    "\n",
    "# but for the most part, the two boxplots look pretty close together\n",
    "# the question is: if we found 100,000 more people and we collected \n",
    "# their resting blood pressure and then we recorded whether they were diagnosed\n",
    "# with heart disease down the line, would there still be a difference in the \n",
    "# means, or is the result caused by random chance?"
   ]
  },
  {
   "cell_type": "markdown",
   "metadata": {},
   "source": [
    "# Two Sample t-test\n",
    "\n",
    "First thing we want to think about is, if we're running a hypothesis test, we have to start with a null and an alternative hypothesis.\n",
    "\n",
    "Note: For this two sample t-test we're going to specifically compare sample means. But we could also compare sample medians if we wanted to.\n",
    "\n",
    "**Null:** There is no difference in mean resting blood pressure (trestbps) between patients who have heart disease and those who don't.\n",
    "*Another way of saying this is: true mean resting bp of ppl with hd - true mean resting bp of ppl without hd = 0*\n",
    "\n",
    "**Alternative:** There is a difference in mean resting blood pressure (trestbps) between patients who have heart disease and those who don't.\n",
    "\n",
    "The thing that we need to run a hypothesis test is to use the null hypothesis to generate a null distribution. "
   ]
  },
  {
   "cell_type": "code",
   "execution_count": 13,
   "metadata": {},
   "outputs": [
    {
     "data": {
      "text/html": [
       "<div>\n",
       "<style scoped>\n",
       "    .dataframe tbody tr th:only-of-type {\n",
       "        vertical-align: middle;\n",
       "    }\n",
       "\n",
       "    .dataframe tbody tr th {\n",
       "        vertical-align: top;\n",
       "    }\n",
       "\n",
       "    .dataframe thead th {\n",
       "        text-align: right;\n",
       "    }\n",
       "</style>\n",
       "<table border=\"1\" class=\"dataframe\">\n",
       "  <thead>\n",
       "    <tr style=\"text-align: right;\">\n",
       "      <th></th>\n",
       "      <th>trestbps</th>\n",
       "      <th>heart_disease</th>\n",
       "    </tr>\n",
       "  </thead>\n",
       "  <tbody>\n",
       "    <tr>\n",
       "      <th>0</th>\n",
       "      <td>145.0</td>\n",
       "      <td>absence</td>\n",
       "    </tr>\n",
       "    <tr>\n",
       "      <th>1</th>\n",
       "      <td>160.0</td>\n",
       "      <td>presence</td>\n",
       "    </tr>\n",
       "    <tr>\n",
       "      <th>2</th>\n",
       "      <td>120.0</td>\n",
       "      <td>presence</td>\n",
       "    </tr>\n",
       "    <tr>\n",
       "      <th>3</th>\n",
       "      <td>130.0</td>\n",
       "      <td>absence</td>\n",
       "    </tr>\n",
       "    <tr>\n",
       "      <th>4</th>\n",
       "      <td>130.0</td>\n",
       "      <td>absence</td>\n",
       "    </tr>\n",
       "  </tbody>\n",
       "</table>\n",
       "</div>"
      ],
      "text/plain": [
       "   trestbps heart_disease\n",
       "0     145.0       absence\n",
       "1     160.0      presence\n",
       "2     120.0      presence\n",
       "3     130.0       absence\n",
       "4     130.0       absence"
      ]
     },
     "execution_count": 13,
     "metadata": {},
     "output_type": "execute_result"
    }
   ],
   "source": [
    "# Experiment Design\n",
    "# how can we simulate a situation where there's really no difference between\n",
    "# the resting bp of people with and without heart disease using the data\n",
    "# that we have? Instructor says this is a hard question.\n",
    "\n",
    "# The Solution\n",
    "# In our current dataset, each individual's heart_disease diagnosis \n",
    "# (absence or presence) impacts the resting bps\n",
    "# To create sample data for our null hypothesis, we're going to break this\n",
    "# relationship\n",
    "\n",
    "heart[['trestbps', 'heart_disease']].head()\n",
    "\n",
    "# we're going to mix around the heart_disease column (just this column)\n",
    "# and then recalculate the difference in means for the simulated dataset"
   ]
  },
  {
   "cell_type": "code",
   "execution_count": 104,
   "metadata": {},
   "outputs": [
    {
     "data": {
      "text/plain": [
       "5.318345323740999"
      ]
     },
     "execution_count": 104,
     "metadata": {},
     "output_type": "execute_result"
    }
   ],
   "source": [
    "# calculate the observed mean difference in trestbps for the heart disease column\n",
    "\n",
    "trestbps_nohd = heart.loc[heart['heart_disease'] == 'absence', 'trestbps']\n",
    "trestbps_hd = heart.loc[heart['heart_disease'] == 'presence', 'trestbps']\n",
    "\n",
    "observed_mean_diff = trestbps_hd.mean() - trestbps_nohd.mean()\n",
    "observed_mean_diff"
   ]
  },
  {
   "cell_type": "code",
   "execution_count": 70,
   "metadata": {},
   "outputs": [
    {
     "data": {
      "text/plain": [
       "1.290928233023351"
      ]
     },
     "execution_count": 70,
     "metadata": {},
     "output_type": "execute_result"
    }
   ],
   "source": [
    "# we're going to permute the heart_disease column\n",
    "\n",
    "scrambled_hd = np.random.choice(heart['heart_disease'], size=len(heart), replace=False) # replace = False means we're doing a random assignment, like picking names from a hat\n",
    "\n",
    "# then we're going to use the scrambled column to recalculate a diff in means\n",
    "sim_trestbps_hd = heart['trestbps'][scrambled_hd == 'presence']\n",
    "sim_trestbps_no_hd = heart['trestbps'][scrambled_hd == 'absence']\n",
    "# what is the code above doing?\n",
    "# is it like a random masking function?\n",
    "\n",
    "# calculate the diff in means\n",
    "sim_mean_diff = sim_trestbps_hd.mean() - sim_trestbps_no_hd.mean()\n",
    "sim_mean_diff\n",
    "\n"
   ]
  },
  {
   "cell_type": "code",
   "execution_count": 119,
   "metadata": {},
   "outputs": [
    {
     "name": "stdout",
     "output_type": "stream",
     "text": [
      "have heart disease 131.9208633093525\n",
      "no heart disease 131.4939024390244\n",
      "1000\n"
     ]
    },
    {
     "data": {
      "image/png": "[encoded data removed]",
      "text/plain": [
       "<Figure size 432x288 with 1 Axes>"
      ]
     },
     "metadata": {
      "needs_background": "light"
     },
     "output_type": "display_data"
    }
   ],
   "source": [
    "# create a for loop to run the mean diff experiment 1,000 times\n",
    "\n",
    "null_mean_diff = [] # empty list for storing sample mean diffs\n",
    "for i in range(1000):\n",
    "    scrambled_hd = np.random.choice(heart['heart_disease'], size=len(heart), replace=False)\n",
    "    sim_trestbps_hd = heart['trestbps'][scrambled_hd == 'presence'] # definitely a masking op because you're masking the original trestbps series with the scrambled presence/absence list \n",
    "    sim_trestbps_no_hd = heart['trestbps'][scrambled_hd == 'absence']\n",
    "    sim_mean_diff = sim_trestbps_hd.mean() - sim_trestbps_no_hd.mean()\n",
    "    null_mean_diff.append(sim_mean_diff)\n",
    "    \n",
    "# print one set of sample means\n",
    "print('have heart disease', sim_trestbps_hd.mean())\n",
    "print('no heart disease', sim_trestbps_no_hd.mean())\n",
    "print(len(null_mean_diff))\n",
    "\n",
    "# plot the distribution of the null hypothesis mean differences\n",
    "plt.hist(x=null_mean_diff)\n",
    "plt.axvline(x=observed_mean_diff, color='r')\n",
    "plt.show()\n",
    "\n",
    "# we have an approximate normal distribution\n",
    "# we should expect to see the mean centred around 0 because of what we did \n",
    "# in the beginning, where we tried to take samples with scrambled absence\n",
    "# and presence values (automatically creating a mean diff of 0)"
   ]
  },
  {
   "cell_type": "markdown",
   "metadata": {},
   "source": [
    "In the histogram of sample mean differences above, we see that the observed mean diff is pretty far out to the right. We see that if there's really no association, that big of a mean difference is pretty unlikely. It's definitely not unheard of, but definitely unlikely. This is a little bit surprising considering that the observed mean diff was just 5. \n",
    "\n",
    "If we want to calculate how many values are equal to 5.3 or more, we can:"
   ]
  },
  {
   "cell_type": "code",
   "execution_count": 120,
   "metadata": {},
   "outputs": [
    {
     "data": {
      "text/plain": [
       "0.004"
      ]
     },
     "execution_count": 120,
     "metadata": {},
     "output_type": "execute_result"
    }
   ],
   "source": [
    "# How many of the values in the simulated mean diff experiment are greater \n",
    "# than the observed mean difference\n",
    "(np.array(null_mean_diff) >= observed_mean_diff).sum()\n",
    "\n",
    "# and then we can calculate the p-value with this info\n",
    "# what is the proportion of values that are greather than or equal to \n",
    "# the observed mean diff of 5.3\n",
    "((np.array(null_mean_diff) >= observed_mean_diff)).sum()/len(null_mean_diff)\n",
    "\n",
    "# this is a one-sided p-value that we're getting"
   ]
  },
  {
   "cell_type": "code",
   "execution_count": 121,
   "metadata": {},
   "outputs": [
    {
     "data": {
      "text/plain": [
       "0.008"
      ]
     },
     "execution_count": 121,
     "metadata": {},
     "output_type": "execute_result"
    }
   ],
   "source": [
    "# calculate the two-sided p-value\n",
    "((np.array(null_mean_diff) >= observed_mean_diff)).sum()/len(null_mean_diff)*2"
   ]
  },
  {
   "cell_type": "code",
   "execution_count": 118,
   "metadata": {},
   "outputs": [
    {
     "name": "stdout",
     "output_type": "stream",
     "text": [
      "0.008548268928594928\n"
     ]
    }
   ],
   "source": [
    "# perform a t-test to compare the sim null mean diff and the observed mean diff\n",
    "# This is a two-sided test for the null hypothesis that 2 independent samples\n",
    "# have identical average (expected) values. This test assumes that the\n",
    "# populations have identical variances by default.\n",
    "\n",
    "from scipy.stats import ttest_ind\n",
    "tstat, pval = ttest_ind(a=trestbps_hd, b=trestbps_nohd) # here we are calculating the p-value and t-stat for the observed trestbps values\n",
    "print(pval)\n",
    "\n",
    "# A two-sample t-test is really treating trestbps_hd and trestbps_nohd as our\n",
    "# two samples, and we're thinking of them as independent samples\n",
    "# so an independent group of people that have heart disease\n",
    "# and an independent group of people that don't have heart disease\n",
    "# And we're comparing our samples\n",
    "\n",
    "# We're using a t-test because the null hypothesis distribution\n",
    "# we got is theoretically a student t distribution; it's actually \n",
    "# theoretically a normal distribution but the student t is quite similar\n",
    "# to the normal distribution except that it's slightly slightly squished\n",
    "# version of it and has thicker tails, and so it OVERESTIMATES THE \n",
    "# P-VALUES SLIGHTLY WHICH HELPS PROTECT AGAINST ERRORS\n",
    "\n",
    "# therefore people use a student t distribution over a normal distribution\n",
    "# for hypothesis testing\n",
    "\n",
    "# you could use a z-test for this as well and get the same answer"
   ]
  },
  {
   "cell_type": "code",
   "execution_count": 124,
   "metadata": {},
   "outputs": [
    {
     "name": "stdout",
     "output_type": "stream",
     "text": [
      "have heart disease 130.0\n",
      "no heart disease 130.0\n",
      "1000\n"
     ]
    },
    {
     "data": {
      "image/png": "[encoded data removed]",
      "text/plain": [
       "<Figure size 432x288 with 1 Axes>"
      ]
     },
     "metadata": {
      "needs_background": "light"
     },
     "output_type": "display_data"
    }
   ],
   "source": [
    "# let's experiment with a null distribution for the medians\n",
    "\n",
    "# create a for loop to run the median diff experiment 1,000 times\n",
    "\n",
    "null_median_diff = [] # empty list for storing sample mean diffs\n",
    "for i in range(1000):\n",
    "    scrambled_hd = np.random.choice(heart['heart_disease'], size=len(heart), replace=False)\n",
    "    sim_trestbps_hd = heart['trestbps'][scrambled_hd == 'presence'] # definitely a masking op because you're masking the original trestbps series with the scrambled presence/absence list \n",
    "    sim_trestbps_no_hd = heart['trestbps'][scrambled_hd == 'absence']\n",
    "    sim_median_diff = sim_trestbps_hd.median() - sim_trestbps_no_hd.median()\n",
    "    null_median_diff.append(sim_median_diff)\n",
    "    \n",
    "# print one set of sample medians\n",
    "print('have heart disease', sim_trestbps_hd.median())\n",
    "print('no heart disease', sim_trestbps_no_hd.median())\n",
    "print(len(null_median_diff))\n",
    "\n",
    "# plot the distribution of the null hypothesis median differences\n",
    "plt.hist(x=null_median_diff, bins=50)\n",
    "plt.show()\n",
    "\n",
    "# the median in the simulated null distribution is almost always 0\n",
    "# would be hard to calculate a p-value from this simulation"
   ]
  },
  {
   "cell_type": "markdown",
   "metadata": {},
   "source": [
    "The reason why people use the mean in hypothesis testing generally is that the Central Limit Theorem applies (which is to say that the expectation of a difference or of two random variables added together is just the sum of the expectation) - basically if you have two normal distributions, their sum is also normal, or their difference is also normal\n",
    "\n",
    "Note: student t distribution helps us be conservative"
   ]
  },
  {
   "cell_type": "markdown",
   "metadata": {},
   "source": [
    "t-test is for specifically testing mean differences between two independent groups. So looking at an association between a quantitative variable and a binary categorical variable. \n",
    "\n",
    "Other hypothesis tests we can run\n",
    "\n",
    "binary variable - heart disease or no heart disease\n",
    "\n",
    "but say we are interested in how thal achieved is related to what kind of chest pain you have, and there are 4 diff kinds of chest pain, not just 2 categories, and you want a hypothesis test to see if there are any differences between the pairs of these two categories ie typical angina and thalach, asymptomatic and thalach, non-anginal pain and thalach, atypical angina and thalach, use an ANOVA test, followed by a tukeys pair test\n",
    "ANOVA: \n",
    "\n",
    "CHI-SQUARED TEST: used for looking at an association between two categorical variables, for example people who have or don't have heart disease and diff types of chest pain. So if there an association between whether a person has heart disease and what types of chest pain they have, and we can run a hypothesis test to find out\n",
    "\n",
    "WHAT THE CHI-SQUARED TEST DOES\n",
    "1. What proportion of people have heart disease?\n",
    "2. Randomly assign whether someone has heart disease based on that proportion\n",
    "3. Randomly assign what kind of chest pain someone has, randomly assign them separately\n",
    "4. Calculate the chi-squared statistic\n",
    "5. Look at the null distribution"
   ]
  },
  {
   "cell_type": "markdown",
   "metadata": {},
   "source": [
    "SHAPIRO-WILKS TEST\n",
    "Testing whether a distribution is statistically significantly different from normal. Used to check assumptions for (predictive) models.\n",
    "\n",
    "Say you want to design a predictive model in order to predict resting blood pressure based off of other characteristics, one of the assumptions is that resting blood pressure has to be normally distributed. "
   ]
  },
  {
   "cell_type": "code",
   "execution_count": 125,
   "metadata": {},
   "outputs": [
    {
     "data": {
      "image/png": "[encoded data removed]",
      "text/plain": [
       "<Figure size 432x288 with 1 Axes>"
      ]
     },
     "metadata": {
      "needs_background": "light"
     },
     "output_type": "display_data"
    }
   ],
   "source": [
    "# putting the SHAPIRO-WILKS test in perspective\n",
    "\n",
    "# plot the resting blood pressure in our dataset\n",
    "plt.hist(heart['trestbps'])\n",
    "plt.show()\n",
    "\n",
    "# the distribution we get doesn't look normally distributed\n",
    "# so you use the Shapiro-Wilks test to determine if the distribution we got\n",
    "# is significantly different from what a normal distribution would look like"
   ]
  }
 ],
 "metadata": {
  "kernelspec": {
   "display_name": "Python 3 (ipykernel)",
   "language": "python",
   "name": "python3"
  },
  "language_info": {
   "codemirror_mode": {
    "name": "ipython",
    "version": 3
   },
   "file_extension": ".py",
   "mimetype": "text/x-python",
   "name": "python",
   "nbconvert_exporter": "python",
   "pygments_lexer": "ipython3",
   "version": "3.9.7"
  }
 },
 "nbformat": 4,
 "nbformat_minor": 4
}
