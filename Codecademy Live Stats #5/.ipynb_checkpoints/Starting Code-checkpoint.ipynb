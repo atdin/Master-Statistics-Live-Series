{
 "cells": [
  {
   "cell_type": "code",
   "execution_count": 2,
   "metadata": {},
   "outputs": [],
   "source": [
    "import pandas as pd\n",
    "import numpy as np\n",
    "import matplotlib.pyplot as plt \n",
    "import seaborn as sns\n",
    "import random"
   ]
  },
  {
   "cell_type": "code",
   "execution_count": 3,
   "metadata": {},
   "outputs": [],
   "source": [
    "monthly_report = pd.read_csv('monthly_report.csv')"
   ]
  },
  {
   "cell_type": "markdown",
   "metadata": {},
   "source": [
    "# Inferential Statistics"
   ]
  },
  {
   "cell_type": "markdown",
   "metadata": {},
   "source": [
    "We're going to make inferences, or judgments, about a population based off of a sample that we can observe. This is essentially the basis for a lot of hypothesis tests.\n",
    "\n",
    "We're specifically going to look at the binomial test/binomial distribution. Not the most common; the t-test or z-test is more common."
   ]
  },
  {
   "cell_type": "code",
   "execution_count": 4,
   "metadata": {},
   "outputs": [
    {
     "data": {
      "text/html": [
       "<div>\n",
       "<style scoped>\n",
       "    .dataframe tbody tr th:only-of-type {\n",
       "        vertical-align: middle;\n",
       "    }\n",
       "\n",
       "    .dataframe tbody tr th {\n",
       "        vertical-align: top;\n",
       "    }\n",
       "\n",
       "    .dataframe thead th {\n",
       "        text-align: right;\n",
       "    }\n",
       "</style>\n",
       "<table border=\"1\" class=\"dataframe\">\n",
       "  <thead>\n",
       "    <tr style=\"text-align: right;\">\n",
       "      <th></th>\n",
       "      <th>timestamp</th>\n",
       "      <th>purchase</th>\n",
       "      <th>item</th>\n",
       "    </tr>\n",
       "  </thead>\n",
       "  <tbody>\n",
       "    <tr>\n",
       "      <th>0</th>\n",
       "      <td>2020-01-17 17:23:06</td>\n",
       "      <td>y</td>\n",
       "      <td>cue cards - love actually</td>\n",
       "    </tr>\n",
       "    <tr>\n",
       "      <th>1</th>\n",
       "      <td>2020-01-25 17:09:39</td>\n",
       "      <td>n</td>\n",
       "      <td>NaN</td>\n",
       "    </tr>\n",
       "    <tr>\n",
       "      <th>2</th>\n",
       "      <td>2020-01-25 05:22:01</td>\n",
       "      <td>n</td>\n",
       "      <td>NaN</td>\n",
       "    </tr>\n",
       "    <tr>\n",
       "      <th>3</th>\n",
       "      <td>2020-01-18 04:33:40</td>\n",
       "      <td>y</td>\n",
       "      <td>t-rex - jurassic park</td>\n",
       "    </tr>\n",
       "    <tr>\n",
       "      <th>4</th>\n",
       "      <td>2020-01-24 17:24:52</td>\n",
       "      <td>n</td>\n",
       "      <td>NaN</td>\n",
       "    </tr>\n",
       "    <tr>\n",
       "      <th>...</th>\n",
       "      <td>...</td>\n",
       "      <td>...</td>\n",
       "      <td>...</td>\n",
       "    </tr>\n",
       "    <tr>\n",
       "      <th>495</th>\n",
       "      <td>2020-01-16 08:40:02</td>\n",
       "      <td>n</td>\n",
       "      <td>NaN</td>\n",
       "    </tr>\n",
       "    <tr>\n",
       "      <th>496</th>\n",
       "      <td>2020-01-09 21:11:19</td>\n",
       "      <td>n</td>\n",
       "      <td>NaN</td>\n",
       "    </tr>\n",
       "    <tr>\n",
       "      <th>497</th>\n",
       "      <td>2020-01-31 08:54:51</td>\n",
       "      <td>n</td>\n",
       "      <td>NaN</td>\n",
       "    </tr>\n",
       "    <tr>\n",
       "      <th>498</th>\n",
       "      <td>2020-01-21 19:35:03</td>\n",
       "      <td>n</td>\n",
       "      <td>NaN</td>\n",
       "    </tr>\n",
       "    <tr>\n",
       "      <th>499</th>\n",
       "      <td>2020-01-31 09:48:43</td>\n",
       "      <td>n</td>\n",
       "      <td>NaN</td>\n",
       "    </tr>\n",
       "  </tbody>\n",
       "</table>\n",
       "<p>500 rows × 3 columns</p>\n",
       "</div>"
      ],
      "text/plain": [
       "               timestamp purchase                       item\n",
       "0    2020-01-17 17:23:06        y  cue cards - love actually\n",
       "1    2020-01-25 17:09:39        n                        NaN\n",
       "2    2020-01-25 05:22:01        n                        NaN\n",
       "3    2020-01-18 04:33:40        y      t-rex - jurassic park\n",
       "4    2020-01-24 17:24:52        n                        NaN\n",
       "..                   ...      ...                        ...\n",
       "495  2020-01-16 08:40:02        n                        NaN\n",
       "496  2020-01-09 21:11:19        n                        NaN\n",
       "497  2020-01-31 08:54:51        n                        NaN\n",
       "498  2020-01-21 19:35:03        n                        NaN\n",
       "499  2020-01-31 09:48:43        n                        NaN\n",
       "\n",
       "[500 rows x 3 columns]"
      ]
     },
     "execution_count": 4,
     "metadata": {},
     "output_type": "execute_result"
    }
   ],
   "source": [
    "# load the dataframe\n",
    "monthly_report\n",
    "\n",
    "# we're working for a company selling props to use to recreate your favourite\n",
    "# scenes from movies. We're the marketing team."
   ]
  },
  {
   "cell_type": "code",
   "execution_count": 5,
   "metadata": {},
   "outputs": [
    {
     "name": "stdout",
     "output_type": "stream",
     "text": [
      "<class 'pandas.core.frame.DataFrame'>\n",
      "RangeIndex: 500 entries, 0 to 499\n",
      "Data columns (total 3 columns):\n",
      " #   Column     Non-Null Count  Dtype \n",
      "---  ------     --------------  ----- \n",
      " 0   timestamp  500 non-null    object\n",
      " 1   purchase   500 non-null    object\n",
      " 2   item       41 non-null     object\n",
      "dtypes: object(3)\n",
      "memory usage: 11.8+ KB\n"
     ]
    }
   ],
   "source": [
    "# let's look at the dtypes\n",
    "monthly_report.info()\n",
    "\n",
    "# notice that the 'item' column has a lot of null values\n",
    "# 'purchase' column - did the customer who visited the website make a purchase?"
   ]
  },
  {
   "cell_type": "code",
   "execution_count": 6,
   "metadata": {},
   "outputs": [],
   "source": [
    "# We have a rough idea of what the purchase rate among visitors should be\n",
    "# We're going to see if the purchase rate among people in this sample\n",
    "# is lower or higher than normal\n",
    "\n",
    "# maybe there was something interfering with the purchase rate, like a bug,\n",
    "# maintenance, a new checkout system, etc.\n",
    "\n",
    "# We want to know whether if we show the same feature to all of our visitors,\n",
    "# would the purchase rate be different to our expectation?"
   ]
  },
  {
   "cell_type": "code",
   "execution_count": 27,
   "metadata": {},
   "outputs": [
    {
     "data": {
      "text/plain": [
       "41"
      ]
     },
     "execution_count": 27,
     "metadata": {},
     "output_type": "execute_result"
    }
   ],
   "source": [
    "# The expectation is that the purchase rate is about 10%\n",
    "# 10% of visitors to the site purchase something\n",
    "\n",
    "# Is the purchase rate we're seeing significantly different to our \n",
    "# expected purchase rate?\n",
    "\n",
    "# binomial test needs numerator and denominator\n",
    "# numerator = number of people who made a purchase\n",
    "\n",
    "monthly_purchased = (monthly_report['purchase'] == 'y').sum()\n",
    "monthly_purchased\n",
    "\n",
    "# monthly_report.loc[monthly_report['purchase'] == 'y', 'purchase'].count()"
   ]
  },
  {
   "cell_type": "code",
   "execution_count": 31,
   "metadata": {},
   "outputs": [
    {
     "data": {
      "text/plain": [
       "500"
      ]
     },
     "execution_count": 31,
     "metadata": {},
     "output_type": "execute_result"
    }
   ],
   "source": [
    "# let's calculate the total number of visitors\n",
    "monthly_visitors = len(monthly_report)\n",
    "monthly_visitors"
   ]
  },
  {
   "cell_type": "code",
   "execution_count": 35,
   "metadata": {},
   "outputs": [
    {
     "data": {
      "text/plain": [
       "8.200000000000001"
      ]
     },
     "execution_count": 35,
     "metadata": {},
     "output_type": "execute_result"
    }
   ],
   "source": [
    "purchase_rate = monthly_purchased / monthly_visitors\n",
    "purchase_rate*100\n",
    "\n",
    "# Notice that we have an 8.2% purchase rate"
   ]
  },
  {
   "cell_type": "code",
   "execution_count": 37,
   "metadata": {},
   "outputs": [
    {
     "data": {
      "text/plain": [
       "n    0.918\n",
       "y    0.082\n",
       "Name: purchase, dtype: float64"
      ]
     },
     "execution_count": 37,
     "metadata": {},
     "output_type": "execute_result"
    }
   ],
   "source": [
    "# we can also use value_counts() to get the same number\n",
    "monthly_report['purchase'].value_counts(normalize=True)"
   ]
  },
  {
   "cell_type": "code",
   "execution_count": 60,
   "metadata": {},
   "outputs": [
    {
     "data": {
      "text/plain": [
       "56"
      ]
     },
     "execution_count": 60,
     "metadata": {},
     "output_type": "execute_result"
    }
   ],
   "source": [
    "# Okay so just because the purchase rate is 8.2% doesn't mean that\n",
    "# there REALLY IS A DIP in the purchase rate\n",
    "# because what we have is a sample and there is some random chance involved\n",
    "\n",
    "# thinking about a binomial test is like flipping a fair coin\n",
    "# probability of flipping a head is 50%\n",
    "\n",
    "# let's simulate the coin flip\n",
    "flips = np.random.choice(a=['heads', 'tails'], size=100, p=[.5,.5])\n",
    "# see random chance in action\n",
    "num_heads = (flips == 'heads').sum()\n",
    "num_heads"
   ]
  },
  {
   "cell_type": "code",
   "execution_count": 65,
   "metadata": {},
   "outputs": [],
   "source": [
    "# we are going to take 10,000 results of coin flip attempts\n",
    "# (in each attempt a coin was flipped 100 times)\n",
    "\n",
    "flip_results = []\n",
    "for i in range(10000):\n",
    "    flips = np.random.choice(a=['heads', 'tails'], size=100, p=[.5,.5])\n",
    "    num_heads = (flips == 'heads').sum()\n",
    "    flip_results.append(num_heads)"
   ]
  },
  {
   "cell_type": "code",
   "execution_count": 68,
   "metadata": {},
   "outputs": [
    {
     "name": "stdout",
     "output_type": "stream",
     "text": [
      "[61, 50, 52, 56, 48, 49, 46, 51, 48, 54, 48, 50, 52, 52, 53, 56, 58, 44, 55, 51, 60, 54, 53, 47, 49, 55, 58, 53, 52, 56, 60, 58, 58, 50, 53, 52, 50, 52, 46, 49, 50, 41, 55, 46, 47, 41, 45, 45, 52, 61, 53, 37, 51, 54, 40, 57, 42, 43, 49, 44, 42, 45, 44, 51, 48, 51, 63, 49, 56, 41, 57, 46, 54, 51, 46, 52, 44, 51, 53, 47, 49, 54, 45, 55, 48, 53, 49, 52, 48, 46, 49, 46, 45, 52, 59, 49, 58, 48, 47]\n"
     ]
    },
    {
     "data": {
      "text/plain": [
       "(array([   4.,   30.,  129.,  503., 1177., 1887., 2340., 1993., 1247.,\n",
       "         502.,  163.,   19.,    6.]),\n",
       " array([31.        , 33.92307692, 36.84615385, 39.76923077, 42.69230769,\n",
       "        45.61538462, 48.53846154, 51.46153846, 54.38461538, 57.30769231,\n",
       "        60.23076923, 63.15384615, 66.07692308, 69.        ]),\n",
       " <BarContainer object of 13 artists>)"
      ]
     },
     "execution_count": 68,
     "metadata": {},
     "output_type": "execute_result"
    },
    {
     "data": {
      "image/png": "[encoded data removed]",
      "text/plain": [
       "<Figure size 432x288 with 1 Axes>"
      ]
     },
     "metadata": {
      "needs_background": "light"
     },
     "output_type": "display_data"
    }
   ],
   "source": [
    "print(flip_results[1:100])\n",
    "plt.hist(flip_results, bins = 13)\n",
    "\n",
    "# seaborn automatically finds the right number of bins for you\n",
    "# you can see that the number of heads is mostly 50\n",
    "# the range is between 35 to 65\n",
    "\n",
    "# difference between the binomial distribution (what we have now)\n",
    "# and a normal distribution is the probability mass function, where\n",
    "# the value you get (returned output) has to be an integer value\n",
    "# the Central Limit Theorem largely applies here\n",
    "\n",
    "# remember from the CLT that the standard error, which describes how\n",
    "# wide the distribution is, is calculated by taking the standard deviation\n",
    "# of the population divided by the square root of the sample size"
   ]
  },
  {
   "cell_type": "code",
   "execution_count": 71,
   "metadata": {},
   "outputs": [
    {
     "data": {
      "text/plain": [
       "0.5018951886599432"
      ]
     },
     "execution_count": 71,
     "metadata": {},
     "output_type": "execute_result"
    }
   ],
   "source": [
    "# calculating standard error\n",
    "np.std(flip_results) / (100**.5) # sample size is how many coins are flipped in each attempt\n",
    "# NOTE: our result is not accurate because we need to adjust the range\n",
    "\n",
    "# as the sample size gets larger, the variation you expect to get \n",
    "# in the distribution gets smaller\n",
    "# the more tests you run, the more sure you're going to be"
   ]
  },
  {
   "cell_type": "code",
   "execution_count": 86,
   "metadata": {},
   "outputs": [
    {
     "data": {
      "text/plain": [
       "46"
      ]
     },
     "execution_count": 86,
     "metadata": {},
     "output_type": "execute_result"
    }
   ],
   "source": [
    "# going back to our business question\n",
    "\n",
    "# we're going to simulate visitors\n",
    "simulated_visitors = np.random.choice(a=['y', 'n'], size=500, p=[.1,.9]) # we expected the probability of a purchase to be 10% or .1\n",
    "purchases = (simulated_visitors == 'y').sum()\n",
    "purchases\n",
    "\n",
    "# interpreting what we did above\n",
    "# let's IMAGINE for a second that the real probability of a purchase is 10%\n",
    "# how much of a range am I going to see in the number of purchases\n",
    "# that occur among 500 visitors is equal to my expected purchase rate\n",
    "\n",
    "# we can start to see that we can get numbers lower than 41 (our sample purchase total)\n",
    "# due to random chance like 35, 39 or high numbers like 66\n"
   ]
  },
  {
   "cell_type": "code",
   "execution_count": 90,
   "metadata": {},
   "outputs": [],
   "source": [
    "# based on the simulation above,\n",
    "# what kind of distribution are we going to see?\n",
    "\n",
    "null_purchases = []\n",
    "for i in range(10000):\n",
    "    simulated_visitors = np.random.choice(a=['y', 'n'], size=500, p=[.1,.9]) # we expected the probability of a purchase to be 10% or .1\n",
    "    purchases = (simulated_visitors == 'y').sum()\n",
    "    null_purchases.append(purchases)\n",
    "    \n"
   ]
  },
  {
   "cell_type": "code",
   "execution_count": 94,
   "metadata": {
    "scrolled": true
   },
   "outputs": [
    {
     "data": {
      "image/png": "[encoded data removed]",
      "text/plain": [
       "<Figure size 432x288 with 1 Axes>"
      ]
     },
     "metadata": {
      "needs_background": "light"
     },
     "output_type": "display_data"
    }
   ],
   "source": [
    "# we're going to plot the null hypothesis (y purchases).\n",
    "\n",
    "plt.hist(null_purchases, density=True)\n",
    "plt.axvline(monthly_purchased, color='r') # adds a vertical line\n",
    "plt.xlabel('number of purchases')\n",
    "plt.ylabel('probability')\n",
    "plt.show()\n",
    "\n",
    "# we can see that our observed sample, 41 purchases, is within the realm\n",
    "# of the simulated purchases, but it's less likely than 50"
   ]
  },
  {
   "cell_type": "code",
   "execution_count": 95,
   "metadata": {},
   "outputs": [
    {
     "data": {
      "text/plain": [
       "0.2"
      ]
     },
     "execution_count": 95,
     "metadata": {},
     "output_type": "execute_result"
    }
   ],
   "source": [
    "# if you have three or more variables, and you care about the difference\n",
    "# between those groups, you're going to need a chi-squared test\n",
    "# this falls under hypothesis testing for associations\n",
    "\n"
   ]
  },
  {
   "cell_type": "code",
   "execution_count": null,
   "metadata": {},
   "outputs": [],
   "source": [
    "# when you want to test a hypothesis, you need to have a null hypothesis\n",
    "# and an alternative hypothesis\n",
    "\n",
    "# the null hypothesis of the binomial test that we're running\n",
    "# for this marketing business question is that the probability\n",
    "# of a purchase is 10%\n",
    "# null hypothesis essentially says that our expected purchase rate is TRUE\n",
    "\n",
    "# the alternative hypothesis is that the purchase rate is below 10%\n",
    "# we're imagining that a bug was present and so we expect the purchase\n",
    "# rate to be lower than the expected rate\n",
    "# related to EXPERIMENT DESIGN"
   ]
  },
  {
   "cell_type": "code",
   "execution_count": null,
   "metadata": {},
   "outputs": [],
   "source": [
    "# THE KEY TO ANY HYPOTHESIS TEST IS KNOWING WHAT THE NULL DISTRIBUTION IS\n",
    "# aah, so the histogram above is representing our H0 hypothesis!\n",
    "# not representing the 'n' values in the 'purchases' column\n",
    "\n",
    "# null hypothesis is the distribution of imagined/simulated samples of 500\n",
    "# with a purchase rate of 10%\n",
    "\n",
    "# when you run a binomial test, you're running a binomial test because \n",
    "# the null distribution is something called a binomial distribution\n",
    "\n",
    "# AMAZING: When you're running a t-test, the reason is because the null\n",
    "# distribution is in the shape of a student t distribution, which is\n",
    "# essentially the same as a normal distribution\n",
    "\n",
    "# if you're on a chi-squared test, it's because the null distribution is\n",
    "# on a chi-squared distribution\n",
    "\n",
    "# basically the magic of statistics is knowing what this distribution is\n",
    "# going to look like without having to simulate all of the samples, like\n",
    "# 10,000 tests of coin flip attempts"
   ]
  },
  {
   "cell_type": "code",
   "execution_count": 105,
   "metadata": {},
   "outputs": [
    {
     "data": {
      "text/plain": [
       "0.1028"
      ]
     },
     "execution_count": 105,
     "metadata": {},
     "output_type": "execute_result"
    }
   ],
   "source": [
    "# what is a p-value\n",
    "# it's the probability of observing a range of statistics, or a range of values,\n",
    "# that is defined by the alternative hypothesis\n",
    "\n",
    "# what's the probability of observing what we have observed, say 41 purchases,\n",
    "# or something MORE EXTREME (ie lesser), in the DIRECTION OF THE ALTERNATIVE HYPOTHESIS\n",
    "# which is less than 41 ( or <10%)\n",
    "\n",
    "# we're essentially trying to calculate/identify the area where the alternative\n",
    "# hypothesis is true?\n",
    "\n",
    "# let's calculate the p-value, HOW EXCITING! haha\n",
    "p_value = (np.array(null_purchases) <= 41).sum() / len(null_purchases)\n",
    "p_value\n",
    "\n",
    "# p value = 10.28%\n",
    "# basically, if we randomly simulate 500 visitors and we repeat that process\n",
    "# 10,000 times, and in each of those simulations the purchase rate is 10%,\n",
    "# the probability that we observe 41 or fewer purchases given that the \n",
    "# purchase rate is 10%, is 10%\n",
    "\n",
    "# 2 questions\n",
    "# why was the null hypothesis experiment run 10,000 times? to get the null distribution?\n",
    "# couldn't we have run a smaller number of experiments"
   ]
  },
  {
   "cell_type": "code",
   "execution_count": 108,
   "metadata": {},
   "outputs": [
    {
     "data": {
      "text/plain": [
       "0.10011352697567076"
      ]
     },
     "execution_count": 108,
     "metadata": {},
     "output_type": "execute_result"
    }
   ],
   "source": [
    "# most p-value code on the internet is for two-sided p-value calculations\n",
    "\n",
    "from scipy.stats import binom_test\n",
    "p_value_scipy = binom_test(x=41, n=500, p=0.1, alternative='less')\n",
    "p_value_scipy\n",
    "# x is the observed value\n",
    "# n is the sample size\n",
    "# p is the null probability of a purchase\n",
    "# alternative indicates the alternative hypothesis - we've set it to 'less' because we want the probability of less than 10%\n",
    "\n",
    "# we got roughly the same value as our calculated p-value\n"
   ]
  }
 ],
 "metadata": {
  "kernelspec": {
   "display_name": "Python 3 (ipykernel)",
   "language": "python",
   "name": "python3"
  },
  "language_info": {
   "codemirror_mode": {
    "name": "ipython",
    "version": 3
   },
   "file_extension": ".py",
   "mimetype": "text/x-python",
   "name": "python",
   "nbconvert_exporter": "python",
   "pygments_lexer": "ipython3",
   "version": "3.9.7"
  }
 },
 "nbformat": 4,
 "nbformat_minor": 4
}
