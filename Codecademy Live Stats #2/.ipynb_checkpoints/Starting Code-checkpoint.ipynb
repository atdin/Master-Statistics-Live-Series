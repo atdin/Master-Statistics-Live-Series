{
 "cells": [
  {
   "cell_type": "code",
   "execution_count": 7,
   "metadata": {},
   "outputs": [],
   "source": [
    "import pandas as pd\n",
    "import numpy as np\n",
    "import matplotlib.pyplot as plt \n",
    "import seaborn as sns\n",
    "import random"
   ]
  },
  {
   "cell_type": "code",
   "execution_count": 8,
   "metadata": {},
   "outputs": [],
   "source": [
    "rentals = pd.read_csv(\"https://raw.githubusercontent.com/Codecademy/datasets/master/streeteasy/streeteasy.csv\")"
   ]
  },
  {
   "cell_type": "code",
   "execution_count": 9,
   "metadata": {},
   "outputs": [
    {
     "data": {
      "text/html": [
       "<div>\n",
       "<style scoped>\n",
       "    .dataframe tbody tr th:only-of-type {\n",
       "        vertical-align: middle;\n",
       "    }\n",
       "\n",
       "    .dataframe tbody tr th {\n",
       "        vertical-align: top;\n",
       "    }\n",
       "\n",
       "    .dataframe thead th {\n",
       "        text-align: right;\n",
       "    }\n",
       "</style>\n",
       "<table border=\"1\" class=\"dataframe\">\n",
       "  <thead>\n",
       "    <tr style=\"text-align: right;\">\n",
       "      <th></th>\n",
       "      <th>rental_id</th>\n",
       "      <th>building_id</th>\n",
       "      <th>rent</th>\n",
       "      <th>bedrooms</th>\n",
       "      <th>bathrooms</th>\n",
       "      <th>size_sqft</th>\n",
       "      <th>min_to_subway</th>\n",
       "      <th>floor</th>\n",
       "      <th>building_age_yrs</th>\n",
       "      <th>no_fee</th>\n",
       "      <th>has_roofdeck</th>\n",
       "      <th>has_washer_dryer</th>\n",
       "      <th>has_doorman</th>\n",
       "      <th>has_elevator</th>\n",
       "      <th>has_dishwasher</th>\n",
       "      <th>has_patio</th>\n",
       "      <th>has_gym</th>\n",
       "      <th>neighborhood</th>\n",
       "      <th>submarket</th>\n",
       "      <th>borough</th>\n",
       "    </tr>\n",
       "  </thead>\n",
       "  <tbody>\n",
       "    <tr>\n",
       "      <th>0</th>\n",
       "      <td>1545</td>\n",
       "      <td>44518357</td>\n",
       "      <td>2550</td>\n",
       "      <td>0.0</td>\n",
       "      <td>1</td>\n",
       "      <td>480</td>\n",
       "      <td>9</td>\n",
       "      <td>2.0</td>\n",
       "      <td>17</td>\n",
       "      <td>1</td>\n",
       "      <td>1</td>\n",
       "      <td>0</td>\n",
       "      <td>0</td>\n",
       "      <td>1</td>\n",
       "      <td>1</td>\n",
       "      <td>0</td>\n",
       "      <td>1</td>\n",
       "      <td>Upper East Side</td>\n",
       "      <td>All Upper East Side</td>\n",
       "      <td>Manhattan</td>\n",
       "    </tr>\n",
       "    <tr>\n",
       "      <th>1</th>\n",
       "      <td>2472</td>\n",
       "      <td>94441623</td>\n",
       "      <td>11500</td>\n",
       "      <td>2.0</td>\n",
       "      <td>2</td>\n",
       "      <td>2000</td>\n",
       "      <td>4</td>\n",
       "      <td>1.0</td>\n",
       "      <td>96</td>\n",
       "      <td>0</td>\n",
       "      <td>0</td>\n",
       "      <td>0</td>\n",
       "      <td>0</td>\n",
       "      <td>0</td>\n",
       "      <td>0</td>\n",
       "      <td>0</td>\n",
       "      <td>0</td>\n",
       "      <td>Greenwich Village</td>\n",
       "      <td>All Downtown</td>\n",
       "      <td>Manhattan</td>\n",
       "    </tr>\n",
       "    <tr>\n",
       "      <th>2</th>\n",
       "      <td>10234</td>\n",
       "      <td>87632265</td>\n",
       "      <td>3000</td>\n",
       "      <td>3.0</td>\n",
       "      <td>1</td>\n",
       "      <td>1000</td>\n",
       "      <td>4</td>\n",
       "      <td>1.0</td>\n",
       "      <td>106</td>\n",
       "      <td>0</td>\n",
       "      <td>0</td>\n",
       "      <td>0</td>\n",
       "      <td>0</td>\n",
       "      <td>0</td>\n",
       "      <td>0</td>\n",
       "      <td>0</td>\n",
       "      <td>0</td>\n",
       "      <td>Astoria</td>\n",
       "      <td>Northwest Queens</td>\n",
       "      <td>Queens</td>\n",
       "    </tr>\n",
       "    <tr>\n",
       "      <th>3</th>\n",
       "      <td>2919</td>\n",
       "      <td>76909719</td>\n",
       "      <td>4500</td>\n",
       "      <td>1.0</td>\n",
       "      <td>1</td>\n",
       "      <td>916</td>\n",
       "      <td>2</td>\n",
       "      <td>51.0</td>\n",
       "      <td>29</td>\n",
       "      <td>0</td>\n",
       "      <td>1</td>\n",
       "      <td>0</td>\n",
       "      <td>1</td>\n",
       "      <td>1</td>\n",
       "      <td>1</td>\n",
       "      <td>0</td>\n",
       "      <td>0</td>\n",
       "      <td>Midtown</td>\n",
       "      <td>All Midtown</td>\n",
       "      <td>Manhattan</td>\n",
       "    </tr>\n",
       "    <tr>\n",
       "      <th>4</th>\n",
       "      <td>2790</td>\n",
       "      <td>92953520</td>\n",
       "      <td>4795</td>\n",
       "      <td>1.0</td>\n",
       "      <td>1</td>\n",
       "      <td>975</td>\n",
       "      <td>3</td>\n",
       "      <td>8.0</td>\n",
       "      <td>31</td>\n",
       "      <td>0</td>\n",
       "      <td>0</td>\n",
       "      <td>0</td>\n",
       "      <td>1</td>\n",
       "      <td>1</td>\n",
       "      <td>1</td>\n",
       "      <td>0</td>\n",
       "      <td>1</td>\n",
       "      <td>Greenwich Village</td>\n",
       "      <td>All Downtown</td>\n",
       "      <td>Manhattan</td>\n",
       "    </tr>\n",
       "  </tbody>\n",
       "</table>\n",
       "</div>"
      ],
      "text/plain": [
       "   rental_id  building_id   rent  bedrooms  bathrooms  size_sqft  \\\n",
       "0       1545     44518357   2550       0.0          1        480   \n",
       "1       2472     94441623  11500       2.0          2       2000   \n",
       "2      10234     87632265   3000       3.0          1       1000   \n",
       "3       2919     76909719   4500       1.0          1        916   \n",
       "4       2790     92953520   4795       1.0          1        975   \n",
       "\n",
       "   min_to_subway  floor  building_age_yrs  no_fee  has_roofdeck  \\\n",
       "0              9    2.0                17       1             1   \n",
       "1              4    1.0                96       0             0   \n",
       "2              4    1.0               106       0             0   \n",
       "3              2   51.0                29       0             1   \n",
       "4              3    8.0                31       0             0   \n",
       "\n",
       "   has_washer_dryer  has_doorman  has_elevator  has_dishwasher  has_patio  \\\n",
       "0                 0            0             1               1          0   \n",
       "1                 0            0             0               0          0   \n",
       "2                 0            0             0               0          0   \n",
       "3                 0            1             1               1          0   \n",
       "4                 0            1             1               1          0   \n",
       "\n",
       "   has_gym       neighborhood            submarket    borough  \n",
       "0        1    Upper East Side  All Upper East Side  Manhattan  \n",
       "1        0  Greenwich Village         All Downtown  Manhattan  \n",
       "2        0            Astoria     Northwest Queens     Queens  \n",
       "3        0            Midtown          All Midtown  Manhattan  \n",
       "4        1  Greenwich Village         All Downtown  Manhattan  "
      ]
     },
     "execution_count": 9,
     "metadata": {},
     "output_type": "execute_result"
    }
   ],
   "source": [
    "rentals.head()"
   ]
  },
  {
   "cell_type": "code",
   "execution_count": 10,
   "metadata": {},
   "outputs": [],
   "source": [
    "rentals.no_fee.replace({1:'yes', 0:'no'}, inplace=True)\n",
    "rentals.has_roofdeck.replace({1:'yes', 0:'no'}, inplace=True)\n",
    "rentals.has_washer_dryer.replace({1:'yes', 0:'no'}, inplace=True)\n",
    "rentals.has_doorman.replace({1:'yes', 0:'no'}, inplace=True)\n",
    "rentals.has_elevator.replace({1:'yes', 0:'no'}, inplace=True)\n",
    "rentals.has_dishwasher.replace({1:'yes', 0:'no'}, inplace=True)\n",
    "rentals.has_patio.replace({1:'yes', 0:'no'}, inplace=True)\n",
    "rentals.has_gym.replace({1:'yes', 0:'no'}, inplace=True)"
   ]
  },
  {
   "cell_type": "code",
   "execution_count": 11,
   "metadata": {},
   "outputs": [
    {
     "data": {
      "text/html": [
       "<div>\n",
       "<style scoped>\n",
       "    .dataframe tbody tr th:only-of-type {\n",
       "        vertical-align: middle;\n",
       "    }\n",
       "\n",
       "    .dataframe tbody tr th {\n",
       "        vertical-align: top;\n",
       "    }\n",
       "\n",
       "    .dataframe thead th {\n",
       "        text-align: right;\n",
       "    }\n",
       "</style>\n",
       "<table border=\"1\" class=\"dataframe\">\n",
       "  <thead>\n",
       "    <tr style=\"text-align: right;\">\n",
       "      <th></th>\n",
       "      <th>rental_id</th>\n",
       "      <th>building_id</th>\n",
       "      <th>rent</th>\n",
       "      <th>bedrooms</th>\n",
       "      <th>bathrooms</th>\n",
       "      <th>size_sqft</th>\n",
       "      <th>min_to_subway</th>\n",
       "      <th>floor</th>\n",
       "      <th>building_age_yrs</th>\n",
       "      <th>no_fee</th>\n",
       "      <th>has_roofdeck</th>\n",
       "      <th>has_washer_dryer</th>\n",
       "      <th>has_doorman</th>\n",
       "      <th>has_elevator</th>\n",
       "      <th>has_dishwasher</th>\n",
       "      <th>has_patio</th>\n",
       "      <th>has_gym</th>\n",
       "      <th>neighborhood</th>\n",
       "      <th>submarket</th>\n",
       "      <th>borough</th>\n",
       "    </tr>\n",
       "  </thead>\n",
       "  <tbody>\n",
       "    <tr>\n",
       "      <th>count</th>\n",
       "      <td>5000.000000</td>\n",
       "      <td>5.000000e+03</td>\n",
       "      <td>5000.000000</td>\n",
       "      <td>5000.000000</td>\n",
       "      <td>5000.000000</td>\n",
       "      <td>5000.000000</td>\n",
       "      <td>5000.000000</td>\n",
       "      <td>5000.000000</td>\n",
       "      <td>5000.000000</td>\n",
       "      <td>5000</td>\n",
       "      <td>5000</td>\n",
       "      <td>5000</td>\n",
       "      <td>5000</td>\n",
       "      <td>5000</td>\n",
       "      <td>5000</td>\n",
       "      <td>5000</td>\n",
       "      <td>5000</td>\n",
       "      <td>5000</td>\n",
       "      <td>5000</td>\n",
       "      <td>5000</td>\n",
       "    </tr>\n",
       "    <tr>\n",
       "      <th>unique</th>\n",
       "      <td>NaN</td>\n",
       "      <td>NaN</td>\n",
       "      <td>NaN</td>\n",
       "      <td>NaN</td>\n",
       "      <td>NaN</td>\n",
       "      <td>NaN</td>\n",
       "      <td>NaN</td>\n",
       "      <td>NaN</td>\n",
       "      <td>NaN</td>\n",
       "      <td>2</td>\n",
       "      <td>2</td>\n",
       "      <td>2</td>\n",
       "      <td>2</td>\n",
       "      <td>2</td>\n",
       "      <td>2</td>\n",
       "      <td>2</td>\n",
       "      <td>2</td>\n",
       "      <td>93</td>\n",
       "      <td>15</td>\n",
       "      <td>3</td>\n",
       "    </tr>\n",
       "    <tr>\n",
       "      <th>top</th>\n",
       "      <td>NaN</td>\n",
       "      <td>NaN</td>\n",
       "      <td>NaN</td>\n",
       "      <td>NaN</td>\n",
       "      <td>NaN</td>\n",
       "      <td>NaN</td>\n",
       "      <td>NaN</td>\n",
       "      <td>NaN</td>\n",
       "      <td>NaN</td>\n",
       "      <td>no</td>\n",
       "      <td>no</td>\n",
       "      <td>no</td>\n",
       "      <td>no</td>\n",
       "      <td>no</td>\n",
       "      <td>no</td>\n",
       "      <td>no</td>\n",
       "      <td>no</td>\n",
       "      <td>Upper West Side</td>\n",
       "      <td>All Downtown</td>\n",
       "      <td>Manhattan</td>\n",
       "    </tr>\n",
       "    <tr>\n",
       "      <th>freq</th>\n",
       "      <td>NaN</td>\n",
       "      <td>NaN</td>\n",
       "      <td>NaN</td>\n",
       "      <td>NaN</td>\n",
       "      <td>NaN</td>\n",
       "      <td>NaN</td>\n",
       "      <td>NaN</td>\n",
       "      <td>NaN</td>\n",
       "      <td>NaN</td>\n",
       "      <td>2852</td>\n",
       "      <td>4357</td>\n",
       "      <td>4331</td>\n",
       "      <td>3860</td>\n",
       "      <td>3800</td>\n",
       "      <td>4222</td>\n",
       "      <td>4772</td>\n",
       "      <td>4281</td>\n",
       "      <td>579</td>\n",
       "      <td>1229</td>\n",
       "      <td>3539</td>\n",
       "    </tr>\n",
       "    <tr>\n",
       "      <th>mean</th>\n",
       "      <td>5526.909400</td>\n",
       "      <td>5.122007e+07</td>\n",
       "      <td>4536.920800</td>\n",
       "      <td>1.395700</td>\n",
       "      <td>1.321600</td>\n",
       "      <td>920.101400</td>\n",
       "      <td>5.079200</td>\n",
       "      <td>10.190200</td>\n",
       "      <td>52.093200</td>\n",
       "      <td>NaN</td>\n",
       "      <td>NaN</td>\n",
       "      <td>NaN</td>\n",
       "      <td>NaN</td>\n",
       "      <td>NaN</td>\n",
       "      <td>NaN</td>\n",
       "      <td>NaN</td>\n",
       "      <td>NaN</td>\n",
       "      <td>NaN</td>\n",
       "      <td>NaN</td>\n",
       "      <td>NaN</td>\n",
       "    </tr>\n",
       "    <tr>\n",
       "      <th>std</th>\n",
       "      <td>3263.692417</td>\n",
       "      <td>2.802283e+07</td>\n",
       "      <td>2929.838953</td>\n",
       "      <td>0.961018</td>\n",
       "      <td>0.565542</td>\n",
       "      <td>440.150464</td>\n",
       "      <td>5.268897</td>\n",
       "      <td>10.565361</td>\n",
       "      <td>40.224501</td>\n",
       "      <td>NaN</td>\n",
       "      <td>NaN</td>\n",
       "      <td>NaN</td>\n",
       "      <td>NaN</td>\n",
       "      <td>NaN</td>\n",
       "      <td>NaN</td>\n",
       "      <td>NaN</td>\n",
       "      <td>NaN</td>\n",
       "      <td>NaN</td>\n",
       "      <td>NaN</td>\n",
       "      <td>NaN</td>\n",
       "    </tr>\n",
       "    <tr>\n",
       "      <th>min</th>\n",
       "      <td>1.000000</td>\n",
       "      <td>7.107000e+03</td>\n",
       "      <td>1250.000000</td>\n",
       "      <td>0.000000</td>\n",
       "      <td>0.000000</td>\n",
       "      <td>250.000000</td>\n",
       "      <td>0.000000</td>\n",
       "      <td>0.000000</td>\n",
       "      <td>0.000000</td>\n",
       "      <td>NaN</td>\n",
       "      <td>NaN</td>\n",
       "      <td>NaN</td>\n",
       "      <td>NaN</td>\n",
       "      <td>NaN</td>\n",
       "      <td>NaN</td>\n",
       "      <td>NaN</td>\n",
       "      <td>NaN</td>\n",
       "      <td>NaN</td>\n",
       "      <td>NaN</td>\n",
       "      <td>NaN</td>\n",
       "    </tr>\n",
       "    <tr>\n",
       "      <th>25%</th>\n",
       "      <td>2699.750000</td>\n",
       "      <td>2.699811e+07</td>\n",
       "      <td>2750.000000</td>\n",
       "      <td>1.000000</td>\n",
       "      <td>1.000000</td>\n",
       "      <td>633.000000</td>\n",
       "      <td>2.000000</td>\n",
       "      <td>3.000000</td>\n",
       "      <td>12.000000</td>\n",
       "      <td>NaN</td>\n",
       "      <td>NaN</td>\n",
       "      <td>NaN</td>\n",
       "      <td>NaN</td>\n",
       "      <td>NaN</td>\n",
       "      <td>NaN</td>\n",
       "      <td>NaN</td>\n",
       "      <td>NaN</td>\n",
       "      <td>NaN</td>\n",
       "      <td>NaN</td>\n",
       "      <td>NaN</td>\n",
       "    </tr>\n",
       "    <tr>\n",
       "      <th>50%</th>\n",
       "      <td>5456.500000</td>\n",
       "      <td>5.069894e+07</td>\n",
       "      <td>3600.000000</td>\n",
       "      <td>1.000000</td>\n",
       "      <td>1.000000</td>\n",
       "      <td>800.000000</td>\n",
       "      <td>4.000000</td>\n",
       "      <td>6.000000</td>\n",
       "      <td>44.000000</td>\n",
       "      <td>NaN</td>\n",
       "      <td>NaN</td>\n",
       "      <td>NaN</td>\n",
       "      <td>NaN</td>\n",
       "      <td>NaN</td>\n",
       "      <td>NaN</td>\n",
       "      <td>NaN</td>\n",
       "      <td>NaN</td>\n",
       "      <td>NaN</td>\n",
       "      <td>NaN</td>\n",
       "      <td>NaN</td>\n",
       "    </tr>\n",
       "    <tr>\n",
       "      <th>75%</th>\n",
       "      <td>8306.000000</td>\n",
       "      <td>7.572064e+07</td>\n",
       "      <td>5200.000000</td>\n",
       "      <td>2.000000</td>\n",
       "      <td>2.000000</td>\n",
       "      <td>1094.000000</td>\n",
       "      <td>6.000000</td>\n",
       "      <td>14.000000</td>\n",
       "      <td>89.000000</td>\n",
       "      <td>NaN</td>\n",
       "      <td>NaN</td>\n",
       "      <td>NaN</td>\n",
       "      <td>NaN</td>\n",
       "      <td>NaN</td>\n",
       "      <td>NaN</td>\n",
       "      <td>NaN</td>\n",
       "      <td>NaN</td>\n",
       "      <td>NaN</td>\n",
       "      <td>NaN</td>\n",
       "      <td>NaN</td>\n",
       "    </tr>\n",
       "    <tr>\n",
       "      <th>max</th>\n",
       "      <td>11349.000000</td>\n",
       "      <td>9.998721e+07</td>\n",
       "      <td>20000.000000</td>\n",
       "      <td>5.000000</td>\n",
       "      <td>5.000000</td>\n",
       "      <td>4800.000000</td>\n",
       "      <td>51.000000</td>\n",
       "      <td>83.000000</td>\n",
       "      <td>180.000000</td>\n",
       "      <td>NaN</td>\n",
       "      <td>NaN</td>\n",
       "      <td>NaN</td>\n",
       "      <td>NaN</td>\n",
       "      <td>NaN</td>\n",
       "      <td>NaN</td>\n",
       "      <td>NaN</td>\n",
       "      <td>NaN</td>\n",
       "      <td>NaN</td>\n",
       "      <td>NaN</td>\n",
       "      <td>NaN</td>\n",
       "    </tr>\n",
       "  </tbody>\n",
       "</table>\n",
       "</div>"
      ],
      "text/plain": [
       "           rental_id   building_id          rent     bedrooms    bathrooms  \\\n",
       "count    5000.000000  5.000000e+03   5000.000000  5000.000000  5000.000000   \n",
       "unique           NaN           NaN           NaN          NaN          NaN   \n",
       "top              NaN           NaN           NaN          NaN          NaN   \n",
       "freq             NaN           NaN           NaN          NaN          NaN   \n",
       "mean     5526.909400  5.122007e+07   4536.920800     1.395700     1.321600   \n",
       "std      3263.692417  2.802283e+07   2929.838953     0.961018     0.565542   \n",
       "min         1.000000  7.107000e+03   1250.000000     0.000000     0.000000   \n",
       "25%      2699.750000  2.699811e+07   2750.000000     1.000000     1.000000   \n",
       "50%      5456.500000  5.069894e+07   3600.000000     1.000000     1.000000   \n",
       "75%      8306.000000  7.572064e+07   5200.000000     2.000000     2.000000   \n",
       "max     11349.000000  9.998721e+07  20000.000000     5.000000     5.000000   \n",
       "\n",
       "          size_sqft  min_to_subway        floor  building_age_yrs no_fee  \\\n",
       "count   5000.000000    5000.000000  5000.000000       5000.000000   5000   \n",
       "unique          NaN            NaN          NaN               NaN      2   \n",
       "top             NaN            NaN          NaN               NaN     no   \n",
       "freq            NaN            NaN          NaN               NaN   2852   \n",
       "mean     920.101400       5.079200    10.190200         52.093200    NaN   \n",
       "std      440.150464       5.268897    10.565361         40.224501    NaN   \n",
       "min      250.000000       0.000000     0.000000          0.000000    NaN   \n",
       "25%      633.000000       2.000000     3.000000         12.000000    NaN   \n",
       "50%      800.000000       4.000000     6.000000         44.000000    NaN   \n",
       "75%     1094.000000       6.000000    14.000000         89.000000    NaN   \n",
       "max     4800.000000      51.000000    83.000000        180.000000    NaN   \n",
       "\n",
       "       has_roofdeck has_washer_dryer has_doorman has_elevator has_dishwasher  \\\n",
       "count          5000             5000        5000         5000           5000   \n",
       "unique            2                2           2            2              2   \n",
       "top              no               no          no           no             no   \n",
       "freq           4357             4331        3860         3800           4222   \n",
       "mean            NaN              NaN         NaN          NaN            NaN   \n",
       "std             NaN              NaN         NaN          NaN            NaN   \n",
       "min             NaN              NaN         NaN          NaN            NaN   \n",
       "25%             NaN              NaN         NaN          NaN            NaN   \n",
       "50%             NaN              NaN         NaN          NaN            NaN   \n",
       "75%             NaN              NaN         NaN          NaN            NaN   \n",
       "max             NaN              NaN         NaN          NaN            NaN   \n",
       "\n",
       "       has_patio has_gym     neighborhood     submarket    borough  \n",
       "count       5000    5000             5000          5000       5000  \n",
       "unique         2       2               93            15          3  \n",
       "top           no      no  Upper West Side  All Downtown  Manhattan  \n",
       "freq        4772    4281              579          1229       3539  \n",
       "mean         NaN     NaN              NaN           NaN        NaN  \n",
       "std          NaN     NaN              NaN           NaN        NaN  \n",
       "min          NaN     NaN              NaN           NaN        NaN  \n",
       "25%          NaN     NaN              NaN           NaN        NaN  \n",
       "50%          NaN     NaN              NaN           NaN        NaN  \n",
       "75%          NaN     NaN              NaN           NaN        NaN  \n",
       "max          NaN     NaN              NaN           NaN        NaN  "
      ]
     },
     "execution_count": 11,
     "metadata": {},
     "output_type": "execute_result"
    }
   ],
   "source": [
    "rentals.describe(include='all')\n",
    "\n",
    "# say you get a value like 5.122007e+07\n",
    "# that means the number multiplied to the ten of seventh\n",
    "# 5.122 times ten to the seventh\n",
    "# move the decimal 7 places to the right"
   ]
  },
  {
   "cell_type": "markdown",
   "metadata": {},
   "source": [
    "## Univariate (one variable)"
   ]
  },
  {
   "cell_type": "markdown",
   "metadata": {},
   "source": [
    "### Quantitative"
   ]
  },
  {
   "cell_type": "code",
   "execution_count": 12,
   "metadata": {},
   "outputs": [
    {
     "data": {
      "text/plain": [
       "4536.9208"
      ]
     },
     "execution_count": 12,
     "metadata": {},
     "output_type": "execute_result"
    }
   ],
   "source": [
    "# we're going to start with an exploration of quantitative variables\n",
    "# imagine that we're looking for apartments in NYC\n",
    "# understand what a typical apartment in NYC looks like\n",
    "\n",
    "# let's look at the rent column\n",
    "# use numpy to calculate the mean\n",
    "np.mean(rentals['rent'])\n",
    "\n",
    "# or pandas\n",
    "rent_mean = rentals['rent'].mean()\n",
    "rent_mean\n",
    "\n",
    "# important to write our own hypothesis testing functions"
   ]
  },
  {
   "cell_type": "code",
   "execution_count": 13,
   "metadata": {},
   "outputs": [
    {
     "data": {
      "text/plain": [
       "3980.253"
      ]
     },
     "execution_count": 13,
     "metadata": {},
     "output_type": "execute_result"
    }
   ],
   "source": [
    "# let's see what the trimmed mean is\n",
    "# need to import scipy\n",
    "\n",
    "import scipy.stats as st\n",
    "\n",
    "st.trim_mean(rentals['rent'], proportiontocut=.1)\n",
    "# proportiontocut parameter\n",
    "# If `proportiontocut` = 0.1, slices off 'leftmost' and 'rightmost' 10% of\n",
    "# scores. The input is sorted before slicing. Slices off less if proportion\n",
    "# results in a non-integer slice index (i.e., conservatively slices off\n",
    "# `proportiontocut` ).\n",
    "\n",
    "# the trimmed mean is closer to median\n",
    "# this indicates that there were some large outliers in leftmost and\n",
    "# rightmost 10% of scores\n",
    "\n",
    "# essentially we're only keeping 80% of our data to calculate\n",
    "# the mean here"
   ]
  },
  {
   "cell_type": "code",
   "execution_count": 14,
   "metadata": {},
   "outputs": [
    {
     "data": {
      "text/plain": [
       "3600.0"
      ]
     },
     "execution_count": 14,
     "metadata": {},
     "output_type": "execute_result"
    }
   ],
   "source": [
    "# let's calculate the median\n",
    "rent_median = rentals['rent'].median()\n",
    "rent_median\n",
    "\n",
    "# notice that the mean is higher than the median\n",
    "# this indicates that there are probably some high value outliers\n",
    "# this graph is probably skewed to the right\n",
    "\n",
    "# could use the trimmed mean - which cuts out really big outliers"
   ]
  },
  {
   "cell_type": "code",
   "execution_count": 15,
   "metadata": {},
   "outputs": [
    {
     "data": {
      "text/plain": [
       "0     2550\n",
       "1    11500\n",
       "2     3000\n",
       "3     4500\n",
       "4     4795\n",
       "5     3600\n",
       "6     1950\n",
       "7    17500\n",
       "8     3500\n",
       "9     3800\n",
       "Name: rent, dtype: int64"
      ]
     },
     "execution_count": 15,
     "metadata": {},
     "output_type": "execute_result"
    }
   ],
   "source": [
    "rentals['rent'].head(10)"
   ]
  },
  {
   "cell_type": "code",
   "execution_count": 16,
   "metadata": {},
   "outputs": [
    {
     "data": {
      "text/plain": [
       "3500    102\n",
       "4500     70\n",
       "3800     69\n",
       "3000     68\n",
       "2500     68\n",
       "       ... \n",
       "4363      1\n",
       "3557      1\n",
       "3710      1\n",
       "3930      1\n",
       "6675      1\n",
       "Name: rent, Length: 1016, dtype: int64"
      ]
     },
     "execution_count": 16,
     "metadata": {},
     "output_type": "execute_result"
    }
   ],
   "source": [
    "# be careful about using the mode for quantitative variables\n",
    "# for example, in the rent column, most data will be unique\n",
    "# but there could be 2 apartments that have the same rent\n",
    "# so just keep that in mind\n",
    "\n",
    "rentals['rent'].value_counts()\n",
    "# a faster way of getting the mode and seeing what other common rent prices \n",
    "# Roughly 2% of this dataset is apartments with a rent of 3,500\n"
   ]
  },
  {
   "cell_type": "code",
   "execution_count": 27,
   "metadata": {},
   "outputs": [
    {
     "data": {
      "image/png": "[encoded data removed]",
      "text/plain": [
       "<Figure size 720x432 with 1 Axes>"
      ]
     },
     "metadata": {
      "needs_background": "light"
     },
     "output_type": "display_data"
    }
   ],
   "source": [
    "# let's create a histogram and see how rent is distributed\n",
    "\n",
    "# a quick and dirty one\n",
    "# rentals['rent'].plot.hist(bins=50)\n",
    "\n",
    "# a nicer looking one\n",
    "fig = plt.figure(figsize=(10,6))\n",
    "plt.hist(x=rentals['rent'], bins=50)\n",
    "plt.vlines(x=rent_median, ymin=0, ymax=600, colors='k', label='median')\n",
    "plt.vlines(x=rent_mean, ymin=0, ymax=600, colors='r', label='mean')\n",
    "plt.title('Rent in NYC - StreetEasy')\n",
    "plt.xlabel('Rent Prices')\n",
    "plt.ylabel('Count')\n",
    "plt.legend()\n",
    "plt.show()\n",
    "\n",
    "# Notice: A lot of variation on the right side of this histogram\n",
    "# median rental price is 3,600 USD\n",
    "# if someone says to you, you can go a bit above this price\n",
    "# so you explore and see how much variation there is above this number\n",
    "# if it's highly varied, then you can see what other options you have"
   ]
  },
  {
   "cell_type": "code",
   "execution_count": 70,
   "metadata": {},
   "outputs": [
    {
     "data": {
      "image/png": "[encoded data removed]",
      "text/plain": [
       "<Figure size 432x288 with 1 Axes>"
      ]
     },
     "metadata": {
      "needs_background": "light"
     },
     "output_type": "display_data"
    }
   ],
   "source": [
    "# let's graph rent as a boxplot\n",
    "sns.boxplot(x=rentals['rent'])\n",
    "plt.show()\n",
    "\n",
    "# so you can see that the middle 50% is between 2,500 and 5,200 USD\n",
    "# there's quite some variation here"
   ]
  },
  {
   "cell_type": "code",
   "execution_count": 29,
   "metadata": {},
   "outputs": [
    {
     "data": {
      "image/png": "[encoded data removed]",
      "text/plain": [
       "<Figure size 720x432 with 1 Axes>"
      ]
     },
     "metadata": {
      "needs_background": "light"
     },
     "output_type": "display_data"
    }
   ],
   "source": [
    "# now let's see what the distribution is like for minutes to the subway\n",
    "\n",
    "travel_time = rentals['min_to_subway']\n",
    "travel_time\n",
    "median_travel_time = rentals['min_to_subway'].median()\n",
    "mean_travel_time = rentals['min_to_subway'].mean()\n",
    "\n",
    "# plotting a histogram\n",
    "fig2 = plt.figure(figsize=(10,6))\n",
    "plt.hist(x=travel_time, bins=50)\n",
    "plt.vlines(x=median_travel_time, ymin=0, ymax=1000, colors='y', label='median')\n",
    "plt.vlines(x=mean_travel_time, ymin=0, ymax=1000, colors='r', label='mean')\n",
    "plt.title('Minutes to Subway')\n",
    "plt.xlabel('Minutes')\n",
    "plt.ylabel('Count')\n",
    "plt.legend()\n",
    "plt.show()\n",
    "\n",
    "# there seem to be apartments that are about 45 minutes away from a subway station"
   ]
  },
  {
   "cell_type": "code",
   "execution_count": 42,
   "metadata": {},
   "outputs": [
    {
     "data": {
      "text/plain": [
       "Manhattan    51\n",
       "Queens        6\n",
       "Brooklyn      2\n",
       "Name: borough, dtype: int64"
      ]
     },
     "execution_count": 42,
     "metadata": {},
     "output_type": "execute_result"
    }
   ],
   "source": [
    "# checking which apartments are 45 minutes away from a subway station\n",
    "\n",
    "rentals.loc[rentals['min_to_subway'] > 40].shape[0]\n",
    "# how many apartments in this list?\n",
    "\n",
    "rentals.loc[rentals['min_to_subway'] > 40, 'borough'].value_counts()\n",
    "# which boroughs are these apartments located in?\n",
    "\n",
    "# these apartments are oddly in super urban areas, like literally in the centre of the city\n",
    "# the instructor's instinct was to check if the apartments were pulled from\n",
    "# the same building because the minutes to the subway are all 43\n",
    "\n",
    "# ESSENTIALLY, dive deeper into the data\n",
    "# the error might have to do with data collection or with how it was formatted\n",
    "\n",
    "# best thing to do for univariate analyses is to graph histograms\n",
    "# will help you catch anomalies\n",
    "# might lead you to do additional data cleaning steps\n",
    "\n",
    "# in practice, a lot of data cleaning is automated\n",
    "# you'll probably want to write a script/function to check for common data issues"
   ]
  },
  {
   "cell_type": "code",
   "execution_count": 45,
   "metadata": {},
   "outputs": [
    {
     "data": {
      "text/plain": [
       "1250"
      ]
     },
     "execution_count": 45,
     "metadata": {},
     "output_type": "execute_result"
    }
   ],
   "source": [
    "# let's look at the minimum\n",
    "rentals['rent'].min()\n",
    "\n",
    "# can use numpy too\n",
    "np.min(rentals['rent'])"
   ]
  },
  {
   "cell_type": "code",
   "execution_count": 47,
   "metadata": {},
   "outputs": [
    {
     "data": {
      "text/plain": [
       "20000"
      ]
     },
     "execution_count": 47,
     "metadata": {},
     "output_type": "execute_result"
    }
   ],
   "source": [
    "# let's look at the maximum\n",
    "rentals['rent'].max()\n",
    "\n",
    "# can use numpy too\n",
    "np.max(rentals['rent'])"
   ]
  },
  {
   "cell_type": "code",
   "execution_count": 48,
   "metadata": {},
   "outputs": [
    {
     "data": {
      "text/plain": [
       "2929.5459546024153"
      ]
     },
     "execution_count": 48,
     "metadata": {},
     "output_type": "execute_result"
    }
   ],
   "source": [
    "# standard deviation is another common measurement to understand \n",
    "# variation around the mean\n",
    "# you can use it to COMPARE DISTRIBUTIONS\n",
    "\n",
    "np.std(rentals['rent'])\n",
    "\n",
    "# a smaller sd means that the data is closer together\n",
    "\n"
   ]
  },
  {
   "cell_type": "code",
   "execution_count": null,
   "metadata": {},
   "outputs": [],
   "source": []
  },
  {
   "cell_type": "markdown",
   "metadata": {},
   "source": [
    "### Categorical"
   ]
  },
  {
   "cell_type": "code",
   "execution_count": null,
   "metadata": {},
   "outputs": [],
   "source": [
    "# the instructor's advice is to not use summary stats (ie mean)\n",
    "# on categorical data like strongly agree, agree, neutral, don't disagree, etc.\n",
    "# because you cannot quantify the size of the 'agreement'"
   ]
  },
  {
   "cell_type": "code",
   "execution_count": 55,
   "metadata": {},
   "outputs": [
    {
     "data": {
      "text/plain": [
       "Manhattan    3539\n",
       "Brooklyn     1013\n",
       "Queens        448\n",
       "Name: borough, dtype: int64"
      ]
     },
     "execution_count": 55,
     "metadata": {},
     "output_type": "execute_result"
    }
   ],
   "source": [
    "# first thing to do when trying to understand a categorical variable\n",
    "# is print out the frequencies of each category\n",
    "# VALUE_COUNTS()!\n",
    "\n",
    "rentals['borough'].value_counts(dropna=False)"
   ]
  },
  {
   "cell_type": "code",
   "execution_count": 60,
   "metadata": {
    "scrolled": true
   },
   "outputs": [
    {
     "data": {
      "text/plain": [
       "<AxesSubplot:xlabel='borough', ylabel='count'>"
      ]
     },
     "execution_count": 60,
     "metadata": {},
     "output_type": "execute_result"
    },
    {
     "data": {
      "image/png": "[encoded data removed]",
      "text/plain": [
       "<Figure size 432x288 with 1 Axes>"
      ]
     },
     "metadata": {
      "needs_background": "light"
     },
     "output_type": "display_data"
    }
   ],
   "source": [
    "# create a countplot!\n",
    "# what's the difference between a countplot and a barplot?\n",
    "\n",
    "sns.countplot(x=rentals['borough'])\n",
    "\n"
   ]
  },
  {
   "cell_type": "code",
   "execution_count": 62,
   "metadata": {},
   "outputs": [
    {
     "data": {
      "text/plain": [
       "<AxesSubplot:xlabel='borough', ylabel='rent'>"
      ]
     },
     "execution_count": 62,
     "metadata": {},
     "output_type": "execute_result"
    },
    {
     "data": {
      "image/png": "[encoded data removed]",
      "text/plain": [
       "<Figure size 432x288 with 1 Axes>"
      ]
     },
     "metadata": {
      "needs_background": "light"
     },
     "output_type": "display_data"
    }
   ],
   "source": [
    "# doesn't work because it requires a numeric variable for x\n",
    "# sns.barplot(x=rentals['borough'])\n",
    "\n",
    "# you needt to add a y-variable\n",
    "sns.barplot(x=rentals['borough'], y=rentals['rent']) \n",
    "# but what is this barplot showing me? \n",
    "# A bar plot represents an estimate of central tendency for a numeric variable\n",
    "# A barplot is basically used to aggregate the categorical data \n",
    "# according to some methods and by default it’s the MEAN\n",
    "\n",
    "# so what we're seeing here below is the mean of rent in each borough!"
   ]
  },
  {
   "cell_type": "code",
   "execution_count": 68,
   "metadata": {},
   "outputs": [
    {
     "data": {
      "text/plain": [
       "3327.4037512339587"
      ]
     },
     "execution_count": 68,
     "metadata": {},
     "output_type": "execute_result"
    }
   ],
   "source": [
    "rentals.loc[rentals['borough'] == 'Brooklyn', 'rent'].mean()"
   ]
  }
 ],
 "metadata": {
  "kernelspec": {
   "display_name": "Python 3 (ipykernel)",
   "language": "python",
   "name": "python3"
  },
  "language_info": {
   "codemirror_mode": {
    "name": "ipython",
    "version": 3
   },
   "file_extension": ".py",
   "mimetype": "text/x-python",
   "name": "python",
   "nbconvert_exporter": "python",
   "pygments_lexer": "ipython3",
   "version": "3.9.7"
  }
 },
 "nbformat": 4,
 "nbformat_minor": 4
}
