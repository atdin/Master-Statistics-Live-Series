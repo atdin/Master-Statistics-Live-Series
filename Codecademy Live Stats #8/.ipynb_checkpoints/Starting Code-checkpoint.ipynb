{
 "cells": [
  {
   "cell_type": "code",
   "execution_count": 1,
   "metadata": {},
   "outputs": [],
   "source": [
    "import pandas as pd\n",
    "import numpy as np\n",
    "import matplotlib.pyplot as plt \n",
    "import seaborn as sns\n",
    "import scipy.stats as st"
   ]
  },
  {
   "cell_type": "markdown",
   "metadata": {},
   "source": [
    "# A/B Testing"
   ]
  },
  {
   "cell_type": "markdown",
   "metadata": {},
   "source": [
    "One of the main things about A/B testing is that we need to run the experiments for two or more groups simultaneously. And the groups must be identical in observable and unobservable ways and the only way to make the groups identical in unobservable ways is to use randomisation (basicall you have to have a group of people and randomly assign them to groups)"
   ]
  },
  {
   "cell_type": "code",
   "execution_count": 88,
   "metadata": {},
   "outputs": [
    {
     "name": "stdout",
     "output_type": "stream",
     "text": [
      "0.0008063082361477824\n",
      "Clicked  no  yes\n",
      "Group           \n",
      "A        50   50\n",
      "B        26   74\n"
     ]
    }
   ],
   "source": [
    "# Simulating data\n",
    "\n",
    "# np.random.seed(11)\n",
    "# This code locks the random generated numbers, so you have just 1 set of \n",
    "# random numbers to work with, instead of getting new sets each time this\n",
    "# cell is run. Helpful for debugging. Also useful for analysis and reproducing\n",
    "# code.\n",
    "\n",
    "# We have a subscribe button, Button A, that half of the people (50%) who see it click on\n",
    "# And we have a new button that could be a better button provided that 60%\n",
    "# of people click on it\n",
    "A_rate = .5 \n",
    "B_rate = .7\n",
    "\n",
    "# diff between the two numbers is 10%; people will use the term LIFT\n",
    "# basically the percent increase\n",
    "# 60% is actually 20% higher than 50%\n",
    "\n",
    "# simulate clicks\n",
    "clicks_A = np.random.choice(['yes', 'no'],  \n",
    "                            size=100, \n",
    "                            p=[A_rate, 1-A_rate]) # 50% rate of clicking the button, and a 50% rate of not clicking the button\n",
    "\n",
    "clicks_B = np.random.choice(['yes', 'no'],  \n",
    "                            size=100, \n",
    "                            p=[B_rate, 1-B_rate])\n",
    "\n",
    "# create dataframe\n",
    "# first create an joined list of clicks A and B\n",
    "outcome = list(clicks_A) + list(clicks_B)\n",
    "\n",
    "# create new list of 100 As and 100 Bs\n",
    "group = ['A']*100 + ['B']*100\n",
    "# is this syntax safe?\n",
    "\n",
    "clicked_data = pd.DataFrame(data={'Group': group, 'Clicked': outcome})\n",
    "pd.crosstab(clicked_data['Group'], clicked_data['Clicked'])\n",
    "# we can see the results\n",
    "\n",
    "# now we'll run a chi-squared test\n",
    "ab_contingency = pd.crosstab(clicked_data['Group'], clicked_data['Clicked']) # what is a contingency?\n",
    "\n",
    "chi2, pval, dof, expected = st.chi2_contingency(ab_contingency)\n",
    "print(pval)\n",
    "print(ab_contingency)\n",
    "# we're going to get a p-value, which is testing the null hypothesis that there\n",
    "# is no association between the two variables, no relationship between the \n",
    "# group identity and whether or not somebody clicked\n",
    "\n",
    "# So as a researcher, after seeing the data below, we want to know if \n",
    "# the proportions are sustainable if we run the experiment again\n",
    "\n",
    "# Hypothesis testing is really built around this idea that you can only \n",
    "# observe a sample but you want to something about a larger population that\n",
    "# you can't observe. So in relation to the fake A/B Test that we're running,\n",
    "# the larger sample that we can't observe is all the visitors to the website\n",
    "# who view the subscribe button and what they would do\n",
    "\n",
    "# for the data that we have, two categorical variables (what group you're in\n",
    "# and whether you clicked or not), the outcome is categorical (whether you \n",
    "# click or not click) - so the hypothesis test we would use is a chi-squared test\n",
    "\n",
    "# if the outcome we cared about was quantitative, like how much time the visitors\n",
    "# spent watching a youtube video, then we would need a different kind of test,\n",
    "# perhaps a two-sample t-test or a z-test\n",
    "\n",
    "# if you're a researcher, you have to think about how big of a difference\n",
    "# you care to measure in your test. So once you have some data, you definitely\n",
    "# want to measure what the rate is in Group A and what the rate is in Group\n",
    "# B, and how large the difference is. Then you want to run a hypothesis test\n",
    "# to see if you have a significant difference, and allows you to reject the\n",
    "# null hypothesis\n",
    "\n",
    "# Usually for an A/B Test, you're comparing something that already exists to\n",
    "# a new version. You'll have some baseline data. But you won't know how well\n",
    "# the new feature performs.\n",
    "\n",
    "# null hypothesis for chi-squared test is that the two rates are the same\n",
    "\n",
    "# in performing this test, we could make a mistake by not finding a difference\n",
    "# even when there is one, so a Type II error. We could have the opposite problem\n",
    "# finding a Type I error"
   ]
  },
  {
   "cell_type": "code",
   "execution_count": null,
   "metadata": {},
   "outputs": [],
   "source": []
  },
  {
   "cell_type": "code",
   "execution_count": 2,
   "metadata": {},
   "outputs": [
    {
     "ename": "NameError",
     "evalue": "name 'lift' is not defined",
     "output_type": "error",
     "traceback": [
      "\u001b[1;31m---------------------------------------------------------------------------\u001b[0m",
      "\u001b[1;31mNameError\u001b[0m                                 Traceback (most recent call last)",
      "\u001b[1;32mC:\\Users\\ATHAIK~1\\AppData\\Local\\Temp/ipykernel_19004/4052650470.py\u001b[0m in \u001b[0;36m<module>\u001b[1;34m\u001b[0m\n\u001b[0;32m      2\u001b[0m \u001b[0msamp_size\u001b[0m \u001b[1;33m=\u001b[0m \u001b[1;36m100\u001b[0m\u001b[1;33m\u001b[0m\u001b[1;33m\u001b[0m\u001b[0m\n\u001b[0;32m      3\u001b[0m \u001b[0mA_rate\u001b[0m \u001b[1;33m=\u001b[0m \u001b[1;36m.5\u001b[0m\u001b[1;33m\u001b[0m\u001b[1;33m\u001b[0m\u001b[0m\n\u001b[1;32m----> 4\u001b[1;33m \u001b[0mB_rate\u001b[0m \u001b[1;33m=\u001b[0m \u001b[1;33m(\u001b[0m\u001b[1;36m1\u001b[0m \u001b[1;33m+\u001b[0m \u001b[0mlift\u001b[0m\u001b[1;33m)\u001b[0m \u001b[1;33m*\u001b[0m \u001b[0mA_rate\u001b[0m\u001b[1;33m\u001b[0m\u001b[1;33m\u001b[0m\u001b[0m\n\u001b[0m\u001b[0;32m      5\u001b[0m \u001b[1;33m\u001b[0m\u001b[0m\n\u001b[0;32m      6\u001b[0m clicks_A = np.random.choice(['yes', 'no'],  \n",
      "\u001b[1;31mNameError\u001b[0m: name 'lift' is not defined"
     ]
    }
   ],
   "source": [
    "# simulate data:\n",
    "samp_size = 100\n",
    "A_rate = .5\n",
    "B_rate = (1 + lift) * A_rate\n",
    "\n",
    "clicks_A = np.random.choice(['yes', 'no'],  \n",
    "                            size=int(sample_size/2), \n",
    "                            p=[A_rate, 1-A_rate])\n",
    "clicks_B = np.random.choice(['yes', 'no'],  \n",
    "                            size=int(sample_size/2), \n",
    "                            p=[B_rate, 1-B_rate])\n",
    "outcome = list(clicks_A) + list(clicks_B)\n",
    "group = ['Button A']*int(sample_size/2) + ['Button B']*int(sample_size/2)\n",
    "sim_data = {\"Group\": group, \"Clicked\": outcome}\n",
    "sim_data = pd.DataFrame(sim_data)\n",
    "print(sim_data)"
   ]
  }
 ],
 "metadata": {
  "kernelspec": {
   "display_name": "Python 3 (ipykernel)",
   "language": "python",
   "name": "python3"
  },
  "language_info": {
   "codemirror_mode": {
    "name": "ipython",
    "version": 3
   },
   "file_extension": ".py",
   "mimetype": "text/x-python",
   "name": "python",
   "nbconvert_exporter": "python",
   "pygments_lexer": "ipython3",
   "version": "3.9.7"
  }
 },
 "nbformat": 4,
 "nbformat_minor": 4
}
